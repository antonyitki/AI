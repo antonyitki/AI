{
 "cells": [
  {
   "cell_type": "code",
   "execution_count": 1,
   "id": "e3ac5acf",
   "metadata": {},
   "outputs": [
    {
     "name": "stdout",
     "output_type": "stream",
     "text": [
      "[[1, 1, 1, 0, 0, 0, 0, 0, 0], 0]\n",
      "[[[0, 0, 0, 0, 0, 0, 0, 0, 0], 0], [[0, 0, 0, 0, 0, 0, 0, 0, 0], 1], [[0, 0, 0, 0, 0, 0, 0, 0, 0], 2], [[0, 0, 0, 0, 0, 0, 0, 0, 0], 3], [[0, 0, 0, 0, 0, 0, 0, 0, 0], 4], [[0, 0, 0, 0, 0, 0, 0, 0, 0], 5], [[0, 0, 0, 0, 0, 0, 0, 0, 0], 6], [[0, 0, 0, 0, 0, 0, 0, 0, 0], 7], [[0, 0, 0, 0, 0, 0, 0, 0, 0], 8]]\n"
     ]
    }
   ],
   "source": [
    "initial_state = [[1,1,1,0,0,0,0,0,0], 0]        \n",
    "goal_state = [ [[0,0,0,0,0,0,0,0,0], i] for i in range(0,9)]\n",
    "print(initial_state)\n",
    "print(goal_state)"
   ]
  },
  {
   "cell_type": "code",
   "execution_count": 2,
   "id": "de876d9d",
   "metadata": {},
   "outputs": [
    {
     "name": "stdout",
     "output_type": "stream",
     "text": [
      "Next Action is SUCK\n",
      "1\n"
     ]
    }
   ],
   "source": [
    "def actions(state):\n",
    "        loc = state[1]\n",
    "        if state[0][loc] == 1:\n",
    "            a=1\n",
    "            print('Next Action is SUCK')\n",
    "            return a\n",
    "        elif loc == 0:\n",
    "            a=3\n",
    "            print('Next Action is RIGHT')\n",
    "            return a\n",
    "        elif loc == 1:\n",
    "            a=3\n",
    "            print('Next Action is RIGHT')\n",
    "            return a\n",
    "        elif loc == 2:\n",
    "            a=3\n",
    "            print('Next Action is RIGHT')\n",
    "            return a\n",
    "        elif loc == 3:\n",
    "            a=3\n",
    "            print('Next Action is RIGHT')\n",
    "            return a\n",
    "        elif loc == 4:\n",
    "            a=3\n",
    "            print('Next Action is RIGHT')\n",
    "            return a\n",
    "        elif loc == 5:\n",
    "            a=3\n",
    "            print('Next Action is RIGHT')\n",
    "            return a\n",
    "        elif loc == 6:\n",
    "            a=3\n",
    "            print('Next Action is RIGHT')\n",
    "            return a\n",
    "        elif loc == 7:\n",
    "            a=3\n",
    "            print('Next Action is RIGHT')\n",
    "            return a\n",
    "        elif loc == 8:\n",
    "            a=2\n",
    "            print('Next Action is LEFT*8')\n",
    "            return a\n",
    "        else:\n",
    "            return [\"FAILURE\"] \n",
    "        \n",
    "a=actions(initial_state)\n",
    "print(a)"
   ]
  },
  {
   "cell_type": "code",
   "execution_count": 3,
   "id": "52957fae",
   "metadata": {},
   "outputs": [
    {
     "name": "stdout",
     "output_type": "stream",
     "text": [
      "[[0, 1, 1, 0, 0, 0, 0, 0, 0], 0]\n"
     ]
    }
   ],
   "source": [
    "def result(p_state, action):\n",
    "        world = list(p_state[0])\n",
    "        loc = p_state[1]\n",
    "        state = []\n",
    "        state.append(world)\n",
    "        state.append(loc)    \n",
    "        if action == 1:\n",
    "            state[0][state[1]] = 0\n",
    "            return state  \n",
    "        elif action == 2:\n",
    "            state[1] -= 8\n",
    "            return state      \n",
    "        elif action == 3:\n",
    "            state[1] += 1\n",
    "            return state    \n",
    "\n",
    "r=result(initial_state, a)\n",
    "print(r)      "
   ]
  },
  {
   "cell_type": "code",
   "execution_count": 4,
   "id": "42b31d94",
   "metadata": {},
   "outputs": [
    {
     "name": "stdout",
     "output_type": "stream",
     "text": [
      "0\n",
      "Goal state Reached\n",
      "1\n"
     ]
    }
   ],
   "source": [
    "def goal_test(goal_state, state):\n",
    "        check=0\n",
    "        for g in goal_state:\n",
    "            if g == state:\n",
    "                check=1\n",
    "                print('Goal state Reached')\n",
    "        return check\n",
    "\n",
    "t=goal_test(goal_state, initial_state)\n",
    "print(t)\n",
    "t=goal_test(goal_state, goal_state[0])\n",
    "print(t)"
   ]
  },
  {
   "cell_type": "code",
   "execution_count": 8,
   "id": "8bd28644",
   "metadata": {},
   "outputs": [
    {
     "name": "stdout",
     "output_type": "stream",
     "text": [
      "Next Action is SUCK\n",
      "[[0, 1, 1, 0, 0, 0, 0, 0, 0], 0]\n",
      "Next Action is RIGHT\n",
      "[[0, 1, 1, 0, 0, 0, 0, 0, 0], 1]\n",
      "Next Action is SUCK\n",
      "[[0, 0, 1, 0, 0, 0, 0, 0, 0], 1]\n",
      "Next Action is RIGHT\n",
      "[[0, 0, 1, 0, 0, 0, 0, 0, 0], 2]\n",
      "Next Action is SUCK\n",
      "[[0, 0, 0, 0, 0, 0, 0, 0, 0], 2]\n",
      "Goal state Reached\n",
      "Goal Reached\n"
     ]
    }
   ],
   "source": [
    "initial_state = [[1,1,1,0,0,0,0,0,0], 0]        \n",
    "goal_state = [ [[0,0,0,0,0,0,0,0,0], i] for i in range(0,9)]\n",
    "state=initial_state\n",
    "t=goal_test(goal_state, initial_state)\n",
    "while t==0:\n",
    "    a=actions(state)\n",
    "    r=result(state, a)\n",
    "    state=r\n",
    "    print(state)\n",
    "    t=goal_test(goal_state, state)\n",
    "#    print(t)\n",
    "else:\n",
    "    print('Goal Reached')"
   ]
  },
  {
   "cell_type": "code",
   "execution_count": null,
   "id": "11e73d8e",
   "metadata": {},
   "outputs": [],
   "source": []
  }
 ],
 "metadata": {
  "kernelspec": {
   "display_name": "Python 3 (ipykernel)",
   "language": "python",
   "name": "python3"
  },
  "language_info": {
   "codemirror_mode": {
    "name": "ipython",
    "version": 3
   },
   "file_extension": ".py",
   "mimetype": "text/x-python",
   "name": "python",
   "nbconvert_exporter": "python",
   "pygments_lexer": "ipython3",
   "version": "3.9.7"
  }
 },
 "nbformat": 4,
 "nbformat_minor": 5
}
