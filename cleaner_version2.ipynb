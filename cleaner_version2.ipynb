{
 "cells": [
  {
   "cell_type": "code",
   "execution_count": 1,
   "id": "55698f65",
   "metadata": {},
   "outputs": [],
   "source": [
    "# Connecting libraries\n",
    "# подключение библиотек\n",
    "\n",
    "# библиотека для математических операций\n",
    "import numpy as np\n",
    "\n",
    "# библиотеки для подключения heatmap (https://seaborn.pydata.org/generated/seaborn.heatmap.html)\n",
    "import pandas as pd\n",
    "import seaborn as sns\n",
    "import matplotlib.pyplot as plt\n",
    "\n",
    "# библиотека для подключения regular expressions\n",
    "import re"
   ]
  },
  {
   "cell_type": "code",
   "execution_count": 2,
   "id": "c5349ad0",
   "metadata": {},
   "outputs": [],
   "source": [
    "# Variable declaration\n",
    "# объявления переменных\n",
    "\n",
    "# порядок матрицы\n",
    "N = 0\n",
    "\n",
    "# наша матрица\n",
    "Matrix = []\n",
    "\n",
    "# Уборщик и его местоположение на матрице\n",
    "Cleaner = [0,0]\n",
    "\n",
    "# возможные действия уборщика\n",
    "Actions = [\"move up\", \"move down\", \"move left\", \"move right\", \"clean\"] #row_sub[0], row_add[1], col_sub[2], col_add[3]\n",
    "\n",
    "# действие уборщика\n",
    "Action = 0"
   ]
  },
  {
   "cell_type": "code",
   "execution_count": 18,
   "id": "f2c48891",
   "metadata": {},
   "outputs": [],
   "source": [
    "# Input rank matrix\n",
    "# функция для введение порядку матрицы (N)\n",
    "\n",
    "def input_N():\n",
    "    \n",
    "#   мы создаем некий флаг (bool) для того чтобы знать правильно ли пользователь ввел переменную\n",
    "    flag = True\n",
    "    \n",
    "#   создаем цикл. Он нужен чтобы при неправильном введении пользователь мог попробывать ввести еще\n",
    "    while flag:\n",
    "        \n",
    "#       переменная в которую записывается то что вводит пользователь\n",
    "        tmp = input(\"Please enter the size of the matrix \\n(You can only enter 3, 4 or 5):\\n\")\n",
    "    \n",
    "#       rezult_input - переменная которая с помощью регулярных выражений проверяет является ли то что ввел пользователь (tmp) числом\n",
    "#       если то что ввел пользователь (tmp) это число, то оно запишется в rezult_input\n",
    "        rezult_input = re.match(\"^\\d+$\", tmp)\n",
    "    \n",
    "#       если rezult_input будет не пустым (тоесть в него записалось число которое ввел пользователь) \n",
    "        if rezult_input is not None:\n",
    "        \n",
    "#           если это число не 0, 1 или 2 (отрецательные числа не записались бы с помощю этой регулярки \"^\\d+$\")\n",
    "            if int(rezult_input.group(0)) != 0 and int(rezult_input.group(0)) != 1 and int(rezult_input.group(0)) != 2:\n",
    "        \n",
    "#               изначальному флагу (flag) присвоим False (то есть заканчивает цикл)\n",
    "                flag = False \n",
    "\n",
    "#           иначе выводим ошибку и продолжаем цикл\n",
    "            else:\n",
    "                print(\"You have entered an incorrect value \\nPlease try again\")\n",
    "        else:\n",
    "            print(\"You have entered an incorrect value \\nPlease try again\")        \n",
    "    return int(tmp)"
   ]
  },
  {
   "cell_type": "code",
   "execution_count": 5,
   "id": "8a83ed7f",
   "metadata": {},
   "outputs": [],
   "source": [
    "# Сreate matrix\n",
    "\n",
    "# создаем матрицу. size это N которое уже ввел пользователь\n",
    "def create_matrix(size):\n",
    "    \n",
    "#   с помощью arange создаем одномерный масив.\n",
    "#   с помощью reshape создаем квадратную матрицу \n",
    "    matrix_create = np.arange(size**2).reshape((size,size)) * 0\n",
    "    return matrix_create"
   ]
  },
  {
   "cell_type": "code",
   "execution_count": 6,
   "id": "03e50f00",
   "metadata": {},
   "outputs": [],
   "source": [
    "# User address template\n",
    "\n",
    "# функция для вывода пояснений для пользователя\n",
    "def print_enter(str):\n",
    "    tmp1 = \"Now you must enter the location of the \"\n",
    "    tmp2 = \" \\nThis is an input template: [row,column]\"\n",
    "    tmp3 = \"\\n'row' is a number that indicates the location of the cell in rows\"\n",
    "    tmp4 = \"\\n'column' is a number that indicates the location of the cell in columns\"\n",
    "    tmp5 = \"\\nPlease look at the picture carefully before entering\"\n",
    "    tmp6 = \"\\nThe numbers to the left of the matrix indicate the numbering of the rows\"\n",
    "    tmp7 = \"\\nThe numbers at the bottom of the matrix indicate the numbering of the columns\"\n",
    "    tmp8 = \"\\nGood luck!\"\n",
    "    \n",
    "#   объединение строк\n",
    "    rez_str = tmp1 + str + tmp2 + tmp3 + tmp4 + tmp5 + tmp6 + tmp7 + tmp8\n",
    "    return rez_str"
   ]
  },
  {
   "cell_type": "code",
   "execution_count": 10,
   "id": "3c5fe601",
   "metadata": {},
   "outputs": [],
   "source": [
    "# Enter a dirt\n",
    "\n",
    "# ввод грязи\n",
    "def input_dirt(matrix):\n",
    "    \n",
    "#   вызываем метод show_heatmap чтобы показать пользователю матрицу\n",
    "    show_heatmap(matrix)\n",
    "    \n",
    "#   мы создаем некий флаг (bool) для того чтобы знать правильно ли пользователь ввел местонахождение грязи\n",
    "    flag_add = True\n",
    "    \n",
    "#   вызываем метод для пояснение\n",
    "    print(print_enter(\"dirt\"))\n",
    "    \n",
    "#   создаем цикл. Он нужен чтобы при неправильном введении пользователь мог попробывать ввести еще\n",
    "    while flag_add:\n",
    "        \n",
    "#       создаем переменную location в нее будет записано местонахождение грязи на матрице (это результат метода input_row_col)\n",
    "        location = input_row_col(\"dirt\")\n",
    "        \n",
    "#       если рядок, который ввел пользователь, меньше чем размер матрицы и \n",
    "#       столбец, который ввел пользователь, меньше чем размер матрицы\n",
    "        if location[0] < len(matrix) and location[1] < len(matrix):\n",
    "        \n",
    "#           тогда отражаем на матрице на месте, который ввел пользователь, темно синий квадрат\n",
    "            matrix[location[0], location[1]] = 3\n",
    "\n",
    "#           запускаем функцию add_more_dirt и ее результат присваиваем flag_add\n",
    "            flag_add = add_more_dirt(flag_add)\n",
    "    \n",
    "#       иначе выводим ошибку и продолжаем цикл\n",
    "        else:\n",
    "            print(\"You have entered an incorrect value \\nPlease try again\")\n",
    "\n",
    "#   вызываем метод show_heatmap чтобы показать пользователю обновленную матрицу\n",
    "    show_heatmap(matrix)\n",
    "    return matrix"
   ]
  },
  {
   "cell_type": "code",
   "execution_count": 9,
   "id": "ffb10baf",
   "metadata": {},
   "outputs": [],
   "source": [
    "# Adding a dirt\n",
    "\n",
    "# метод с помощью которого решается хочет ли пользователь добавить еще грязи на матрицу\n",
    "def add_more_dirt(flag_add):\n",
    "    \n",
    "#   мы создаем некий флаг (bool) для того чтобы знать правильно ли пользователь ввел свой ответ\n",
    "    flag_yn = True\n",
    "    \n",
    "#   запускаем цикл. Он нужен чтобы при неправильном введении пользователь мог попробывать ввести еще\n",
    "    while flag_yn:   \n",
    "        \n",
    "#       tmp2 - переменная в которую записывается ответ пользователя\n",
    "        tmp2 = input(\"Would you like to add more dirt?\" + \n",
    "                 \"\\nEnter y if you want to add\" + \n",
    "                 \"\\nEnter n if you don't want to add\\n\")\n",
    "    \n",
    "#       регулярка проверяет ответ пользователя\n",
    "        reg_yes = re.match('^y$', tmp2)\n",
    "        reg_no = re.match('^n$', tmp2)\n",
    "\n",
    "#       если reg_yes (которое означает что пользователь ввел \"y\") не пустое\n",
    "        if reg_yes is not None:\n",
    "        \n",
    "#           заканчиваем этот цикл\n",
    "            flag_yn = False\n",
    "    \n",
    "#           в flag_add записываем True. Это означает что пользователь хочет добавить еще грязи\n",
    "            flag_add = True\n",
    "    \n",
    "#       иначе: если reg_no (которое означает что пользователь ввел \"n\") не пустое\n",
    "        elif reg_no is not None:\n",
    "        \n",
    "#           заканчиваем этот цикл\n",
    "            flag_yn = False\n",
    "    \n",
    "#           в flag_add записываем False. Это означает что пользователь больше не хочет добавлять грязи\n",
    "            flag_add = False\n",
    "    \n",
    "#       иначе\n",
    "        else:\n",
    "        \n",
    "#           цикл продолжается так как пользователь ввел некорректное значение\n",
    "            flag_yn = True\n",
    "            print(\"You have entered an incorrect value \\nPlease try again\")\n",
    "    return flag_add"
   ]
  },
  {
   "cell_type": "code",
   "execution_count": 7,
   "id": "e1858435",
   "metadata": {},
   "outputs": [],
   "source": [
    "# Input cleaner's location\n",
    "\n",
    "# ввод местонахождение уборщика\n",
    "def input_cleaner_location(matrix):\n",
    "    \n",
    "#   мы создаем некий флаг (bool) для того чтобы знать правильно ли пользователь ввел свой ответ\n",
    "    flag = True\n",
    "    \n",
    "#   вызываем метод для пояснение\n",
    "    print(print_enter(\"cleaner\"))\n",
    "    \n",
    "#   запускаем цикл. Он нужен чтобы при неправильном введении пользователь мог попробывать ввести еще\n",
    "    while flag:\n",
    "        \n",
    "#       новой переменной location присваиваем результат метода input_row_col\n",
    "        location = input_row_col(\"cleaner\")\n",
    "            \n",
    "#       если рядок, который ввел пользователь, меньше чем размер матрицы и \n",
    "#       столбец, который ввел пользователь, меньше чем размер матрицы\n",
    "        if location[0] < len(matrix) and location[1] < len(matrix):\n",
    "        \n",
    "#           переменной flag присваиваем False, тоесть этим заканчиваем цикл\n",
    "            flag = False\n",
    "    \n",
    "#           если местоположение которое ввел пользователь имеет значение 3 (что означает что в нем грязь)\n",
    "            if matrix[location[0], location[1]] == 3:\n",
    "        \n",
    "#               этому местоположению присваивается значение 2 (цвет меняется на немного светлей тон)\n",
    "                matrix[location[0], location[1]] = 2\n",
    "    \n",
    "#           иначе: если местоположение которое ввел пользователь имеет значение 0 (что означает что оно чистое)\n",
    "            elif matrix[location[0], location[1]] == 0:\n",
    "        \n",
    "#               этому местоположению присваивается значение 1 (цвет светло голубой)\n",
    "                matrix[location[0], location[1]] = 1\n",
    "    \n",
    "#           иначе вывод ошибки (этот вариант невозможен)\n",
    "            else:\n",
    "                print(\"Error! \\nSomething wrong! \\nRestart the program\")\n",
    "            \n",
    "#       иначе вывод неверного введения\n",
    "        else:\n",
    "            print(\"You have entered an incorrect value \\nPlease try again\")\n",
    "            \n",
    "#   вывод обновленной матрицы\n",
    "    show_heatmap(matrix)\n",
    "    return matrix"
   ]
  },
  {
   "cell_type": "code",
   "execution_count": 8,
   "id": "084ca032",
   "metadata": {},
   "outputs": [],
   "source": [
    "# Enter rows columns for a cell\n",
    "\n",
    "# ввод рядка и столбца до местоположение уборщика или грязи\n",
    "def input_row_col(str1):\n",
    "    \n",
    "#   переменная в которую будет записыватся местополодение\n",
    "    location = [0, 0]\n",
    "    \n",
    "#   tmp_str - переменная для вывода инструкции пользователю\n",
    "    tmp_str = \"Please enter the location of the \" + str(str1) + \"\\n(Example: [0,1])\\n\"\n",
    "    \n",
    "#   tmp1 - переменная в которую записывается ответ пользователя\n",
    "    tmp1 = input(tmp_str)\n",
    "    \n",
    "#   регулярка для проверки правельности введение (tmp_row для рядка, tmp_col для стовбца),\n",
    "#   эта проверка не полная продолжение проверки ниже\n",
    "    tmp_row = re.match('^\\[\\d+', tmp1).group(0)\n",
    "    tmp_col = re.search('\\d+\\]$', tmp1).group(0)\n",
    "\n",
    "#   если tmp_row не пустой и tmp_col тоже не пустой\n",
    "    if tmp_row is not None and tmp_col is not None:        \n",
    "        \n",
    "#       продолжение проверки регуляркой, результат которой записывается в новый переменные: reg_row и reg_col\n",
    "        reg_row = re.search('\\d+$', re.match('^\\[\\d+', tmp1).group(0))\n",
    "        reg_col = re.match('^\\d+', re.search('\\d+\\]$', tmp1).group(0))\n",
    "\n",
    "#       если reg_row не пустой и reg_col тоже не пустой\n",
    "        if reg_row is not None and reg_col is not None:\n",
    "        \n",
    "#           записываем рядок и столбец в нашу переменну location\n",
    "            location[0] = int(reg_row.group(0))\n",
    "            location[1] = int(reg_col.group(0))\n",
    "        \n",
    "#       иначе\n",
    "        else:\n",
    "            print(\"You have entered an incorrect value \\nPlease try again\")\n",
    "    else:\n",
    "        print(\"You have entered an incorrect value \\nPlease try again\")\n",
    "    return location"
   ]
  },
  {
   "cell_type": "code",
   "execution_count": 3,
   "id": "dbcdafb0",
   "metadata": {},
   "outputs": [],
   "source": [
    "# Matrix visualization\n",
    "\n",
    "# вывод матрицы на екран (https://seaborn.pydata.org/generated/seaborn.heatmap.html)\n",
    "def show_heatmap(arr):\n",
    "    sns.heatmap(arr, vmin=0, vmax=3, annot=False, cbar = False, linewidths=2, linecolor='black', cmap=\"Blues\") \n",
    "    plt.show()"
   ]
  },
  {
   "cell_type": "code",
   "execution_count": 19,
   "id": "57d9319e",
   "metadata": {},
   "outputs": [],
   "source": [
    "# The main method of action\n",
    "\n",
    "# метод который назначает нужное действие\n",
    "def action(matrix):\n",
    "    \n",
    "#   вызываем метод который ищет местоположение уборщика на матрице и записывает резутьтат поиска в location_cleaner\n",
    "    location_cleaner = action_location_cleaner(matrix)\n",
    "    \n",
    "#   если ряд не равен -1 и столбец не равен -1\n",
    "    if location_cleaner[0] != -1 and location_cleaner[1] != -1:\n",
    "        \n",
    "#       в глобальную переменную записываем местоположение уборщика\n",
    "        Cleaner = [location_cleaner[0], location_cleaner[1]] \n",
    "        \n",
    "#       если в матрице уборщик находится на грязи\n",
    "        if matrix[location_cleaner[0], location_cleaner[1]] == 2:\n",
    "        \n",
    "#           тогда action_new присваивается 4 (тоесть действие \"clean\")\n",
    "            action_new = 4\n",
    "    \n",
    "#       иначе\n",
    "        else: \n",
    "        \n",
    "#           action_new присваивается результат метода action_new_action\n",
    "            action_new = action_new_action(matrix, location_cleaner)\n",
    "    \n",
    "#   иначе ошибка\n",
    "    else:\n",
    "        print(\"Error! \\nSomething wrong! \\nRestart the program\")\n",
    "    return [action_new, location_cleaner]"
   ]
  },
  {
   "cell_type": "code",
   "execution_count": 20,
   "id": "8525b9ba",
   "metadata": {},
   "outputs": [],
   "source": [
    "# Search for a cleaner in a matrix\n",
    "\n",
    "# поиск местоположение уборщика на матрице\n",
    "def action_location_cleaner(matrix):\n",
    "    \n",
    "#   переменная которая отображает местоположение уборщика на матрице\n",
    "    location_cleaner = [-1,-1]\n",
    "    \n",
    "#   поиск в матрице значение 2\n",
    "    tmp = np.where(matrix == 2)[0]\n",
    "    \n",
    "#   объявление переменных row и col которым присвоивается -1\n",
    "    row = -1\n",
    "    col = -1\n",
    "    \n",
    "#   если размер переменной tmp равен 0 (тоесть в матрице не нашло значений 2)\n",
    "    if tmp.size == 0:\n",
    "        \n",
    "#       поиск в матрице значение 1, результат которого присваивается tmp  \n",
    "        tmp = np.where(matrix == 1)[0]\n",
    "    \n",
    "#       если размер переменной tmp равен 0 (тоесть в матрице не нашло значений 1)\n",
    "        if tmp.size == 0:\n",
    "        \n",
    "#           вывод ошибки\n",
    "            print(\"Error! \\nSomething wrong! \\nRestart the program\")\n",
    "    \n",
    "#       иначе\n",
    "        else:\n",
    "        \n",
    "#           row и col присваиваются значение местоположение уборщика\n",
    "            row = int(np.where(matrix == 1)[0])\n",
    "            col = int(np.where(matrix == 1)[1])\n",
    "        \n",
    "#   иначе\n",
    "    else:\n",
    "#       row и col присваиваются значение местоположение уборщика\n",
    "        row = int(np.where(matrix == 2)[0])\n",
    "        col = int(np.where(matrix == 2)[1])\n",
    "        \n",
    "#   присваиваем местоположение уборщика location_cleaner \n",
    "    location_cleaner = [row,col]\n",
    "    \n",
    "#   выводим на екран местоположение уборщика\n",
    "    print(location_cleaner)\n",
    "    return location_cleaner"
   ]
  },
  {
   "cell_type": "code",
   "execution_count": 22,
   "id": "2622cac7",
   "metadata": {},
   "outputs": [],
   "source": [
    "# Assign a new action\n",
    "\n",
    "# выбор нового действия\n",
    "def action_new_action(matrix, location_cleaner):\n",
    "    \n",
    "#   переменная которая обозначает действий\n",
    "    action_new = -1\n",
    "\n",
    "#   дальше я буду писать ряд и столбец. Это означает что location_cleaner[0] - это ряд на котором находится уборщик,\n",
    "#   а location_cleaner[1] - это столбец на котором находится уборщик, тоесть location_cleaner - это местоположение уборщика\n",
    "\n",
    "#   если ряд четный и столбец - это не последний столбец матрицы\n",
    "    if location_cleaner[0] % 2 == 0 and location_cleaner[1] != len(matrix) - 1:\n",
    "        \n",
    "#       действие = 3 (\"move right\")\n",
    "        action_new = 3\n",
    "    \n",
    "#   иначе: если ряд нечетный и столбец - это не первый столбец в матрице\n",
    "    elif location_cleaner[0] % 2 == 1 and location_cleaner[1] != 0:\n",
    "        \n",
    "#       действие = 2 (\"move left\")\n",
    "        action_new = 2\n",
    "    \n",
    "#   иначе: если столбец - последний столбец матрицы\n",
    "    elif location_cleaner[1] == len(matrix) - 1:\n",
    "        \n",
    "#       если ряд - это последний ряд матрицы\n",
    "        if location_cleaner[0] == len(matrix) - 1:\n",
    "        \n",
    "#           действие = 0 (\"move up\")\n",
    "            action_new = 0\n",
    "    \n",
    "#       иначе: если ряд четный\n",
    "        elif location_cleaner[0] % 2 == 0:\n",
    "        \n",
    "#           действие = 1 (\"move down\")\n",
    "            action_new = 1\n",
    "    \n",
    "#   иначе: если столбец - это первый столбец в матрице\n",
    "    elif location_cleaner[1] == 0:\n",
    "        \n",
    "#       если ряд - это последний ряд матрицы\n",
    "        if location_cleaner[0] == len(matrix) - 1:\n",
    "        \n",
    "#           действие = 0 (\"move up\")\n",
    "            action_new = 0\n",
    "    \n",
    "#       иначе: если ряд четный\n",
    "        elif location_cleaner[0] % 2 == 1:\n",
    "        \n",
    "#           действие = 1 (\"move down\")\n",
    "            action_new = 1\n",
    "\n",
    "#   если действие так и осталось -1\n",
    "    if action_new == (-1):\n",
    "        \n",
    "#       вывод ошибки\n",
    "        print(\"Error! \\nSomething wrong! \\nRestart the program\")\n",
    "    return action_new"
   ]
  },
  {
   "cell_type": "code",
   "execution_count": 23,
   "id": "f767c8be",
   "metadata": {},
   "outputs": [],
   "source": [
    "# Performing an action\n",
    "\n",
    "# метод который выполняет действие\n",
    "def do_action(matrix, action):\n",
    "    \n",
    "#   мы создаем некий флаг (bool) для того чтобы знать чистая матрица или нет\n",
    "    flag = check_matrix_to_dirt(matrix)\n",
    "    \n",
    "#   если в матрице есть грязь\n",
    "    if flag:\n",
    "        \n",
    "#       вивод на екран нужного действия\n",
    "        print(\"Now the cleaner does: \" + Actions[action]) #\"move up\", \"move down\", \"move left\", \"move right\", \"clean\"\n",
    "        \n",
    "#       если действие = 4 (\"clean\")\n",
    "        if action == 4:\n",
    "        \n",
    "#           матрица в месте где находится уборщик (Cleaner) очищается\n",
    "            matrix[Cleaner[0], Cleaner[1]] = 1\n",
    "    \n",
    "#       иначе: если действие = 0 (\"move up\") и матрица нечетная и ряд где находится уборщик - это последний ряд матрицы и \n",
    "#       столбик - это последний столбик матрицы \n",
    "#       (это условие значит что уборщик дошел до конца матрицы но еще не очистил ее полностю)\n",
    "        elif action == 0 and len(matrix) % 2 == 1 and Cleaner[0] == len(matrix) - 1 and Cleaner[1] == len(matrix) - 1:\n",
    "        \n",
    "#           матрица в месте где находился уборщик (Cleaner) очищается (тоесть уборщик ушел с своего местоположение)\n",
    "            matrix[Cleaner[0], Cleaner[1]] = 0\n",
    "    \n",
    "#           если матрица в [0,0] грязная\n",
    "            if matrix[0,0] == 3:\n",
    "        \n",
    "#               то матрица в [0,0] приобритает темно голубой цвет\n",
    "                matrix[0,0] = 2\n",
    "    \n",
    "#           иначе\n",
    "            else:\n",
    "        \n",
    "#               то матрица в [0,0] приобритает светло голубой цвет\n",
    "                matrix[0,0] = 1\n",
    "    \n",
    "#       иначе: если действие = 0 (\"move up\") и матрица четная и ряд где находится уборщик - это последний ряд матрицы и \n",
    "#       столбик - это первый столбик матрицы \n",
    "#       (это условие значит что уборщик дошел до конца матрицы но еще не очистил ее полностю)\n",
    "        elif action == 0 and len(matrix) % 2 == 0 and Cleaner[0] == len(matrix) - 1 and Cleaner[1] == 0:\n",
    "        \n",
    "#           матрица в месте где находился уборщик (Cleaner) очищается (тоесть уборщик ушел с своего местоположение)\n",
    "            matrix[Cleaner[0], Cleaner[1]] = 0\n",
    "    \n",
    "#           если матрица в [0,0] грязная\n",
    "            if matrix[0,0] == 3:\n",
    "        \n",
    "#               то матрица в [0,0] приобритает темно голубой цвет\n",
    "                matrix[0,0] = 2\n",
    "    \n",
    "#           иначе\n",
    "            else:\n",
    "        \n",
    "#               то матрица в [0,0] приобритает светло голубой цвет\n",
    "                matrix[0,0] = 1\n",
    "    \n",
    "#       иначе: если действие = 0 (\"move up\")\n",
    "        elif action == 0:\n",
    "        \n",
    "#           матрица в месте где находился уборщик (Cleaner) очищается (тоесть уборщик ушел с своего местоположение)\n",
    "            matrix[Cleaner[0], Cleaner[1]] = 0\n",
    "    \n",
    "#           если матрица в верхнем квадрате грязная\n",
    "            if matrix[Cleaner[0] - 1, Cleaner[1]] == 3:\n",
    "        \n",
    "#               то матрица в верхнем квадрате приобритает темно голубой цвет\n",
    "                matrix[Cleaner[0] - 1, Cleaner[1]] = 2\n",
    "    \n",
    "#           иначе\n",
    "            else:\n",
    "        \n",
    "#               то матрица в верхнем квадрате приобритает светло голубой цвет\n",
    "                matrix[Cleaner[0] - 1, Cleaner[1]] = 1\n",
    "                \n",
    "#       иначе: если действие = 1 (\"move down\")\n",
    "        elif action == 1:\n",
    "            \n",
    "#           матрица в месте где находился уборщик (Cleaner) очищается (тоесть уборщик ушел с своего местоположение)\n",
    "            matrix[Cleaner[0], Cleaner[1]] = 0\n",
    "    \n",
    "#           если матрица в нижнем квадрате грязная\n",
    "            if matrix[Cleaner[0] + 1, Cleaner[1]] == 3:\n",
    "        \n",
    "#               то матрица в нижнем квадрате приобритает темно голубой цвет\n",
    "                matrix[Cleaner[0] + 1, Cleaner[1]] = 2\n",
    "    \n",
    "#           иначе\n",
    "            else:\n",
    "        \n",
    "#               то матрица в нижнем квадрате приобритает светло голубой цвет\n",
    "                matrix[Cleaner[0] + 1, Cleaner[1]] = 1\n",
    "                \n",
    "#       иначе: если действие = 2 (\"move left\")\n",
    "        elif action == 2:\n",
    "            \n",
    "#           матрица в месте где находился уборщик (Cleaner) очищается (тоесть уборщик ушел с своего местоположение)\n",
    "            matrix[Cleaner[0], Cleaner[1]] = 0\n",
    "    \n",
    "#           если матрица в левом квадрате грязная\n",
    "            if matrix[Cleaner[0], Cleaner[1] - 1] == 3:\n",
    "        \n",
    "#               то матрица в левом квадрате приобритает темно голубой цвет\n",
    "                matrix[Cleaner[0], Cleaner[1] - 1] = 2\n",
    "            \n",
    "#           иначе\n",
    "            else:\n",
    "        \n",
    "#               то матрица в левом квадрате приобритает светло голубой цвет\n",
    "                matrix[Cleaner[0], Cleaner[1] - 1] = 1\n",
    "                \n",
    "#       иначе: если действие = 3 (\"move right\")\n",
    "        elif action == 3:\n",
    "            \n",
    "#           матрица в месте где находился уборщик (Cleaner) очищается (тоесть уборщик ушел с своего местоположение)\n",
    "            matrix[Cleaner[0], Cleaner[1]] = 0\n",
    "    \n",
    "#           если матрица в правом квадрате грязная\n",
    "            if matrix[Cleaner[0], Cleaner[1] + 1] == 3:\n",
    "        \n",
    "#               то матрица в правом квадрате приобритает темно голубой цвет\n",
    "                matrix[Cleaner[0], Cleaner[1] + 1] = 2\n",
    "            \n",
    "#           иначе\n",
    "            else:\n",
    "        \n",
    "#               то матрица в правом квадрате приобритает светло голубой цвет\n",
    "                matrix[Cleaner[0], Cleaner[1] + 1] = 1\n",
    "    \n",
    "#       иначе ошибка\n",
    "        else:\n",
    "            print(\"Error! \\nSomething wrong! \\nRestart the program\")\n",
    "            \n",
    "#   иначе: матрица чистая\n",
    "    else:\n",
    "        print(\"The matrix is cleaned!\")\n",
    "        \n",
    "#   вывод матрицы на екран\n",
    "    show_heatmap(matrix)\n",
    "    return [matrix, flag]"
   ]
  },
  {
   "cell_type": "code",
   "execution_count": 24,
   "id": "2a687959",
   "metadata": {},
   "outputs": [],
   "source": [
    "# Check the matrix on dirt\n",
    "\n",
    "# проверка матрицы на грязь\n",
    "def check_matrix_to_dirt(matrix):\n",
    "    \n",
    "#   флаг проверки\n",
    "    flag = True\n",
    "    \n",
    "#   проверяет есть ли в матрицы числа 2 или 3 \n",
    "    tmp1 = np.where(matrix == 2)[0]\n",
    "    tmp2 = np.where(matrix == 3)[0]\n",
    "    \n",
    "#   если и 2 нету и 3 нету\n",
    "    if tmp1.size == 0 and tmp2.size == 0:\n",
    "        \n",
    "#       флаг приодберает False (тоесть матрица чиста)\n",
    "        flag = False\n",
    "    return flag"
   ]
  },
  {
   "cell_type": "code",
   "execution_count": 27,
   "id": "1cceee94",
   "metadata": {},
   "outputs": [
    {
     "name": "stdout",
     "output_type": "stream",
     "text": [
      "Please enter the size of the matrix \n",
      "(You can only enter 3, 4 or 5):\n",
      "3\n"
     ]
    },
    {
     "data": {
      "image/png": "[encoded data removed]",
      "text/plain": [
       "<Figure size 432x288 with 1 Axes>"
      ]
     },
     "metadata": {
      "needs_background": "light"
     },
     "output_type": "display_data"
    },
    {
     "name": "stdout",
     "output_type": "stream",
     "text": [
      "Now you must enter the location of the dirt \n",
      "This is an input template: [row,column]\n",
      "'row' is a number that indicates the location of the cell in rows\n",
      "'column' is a number that indicates the location of the cell in columns\n",
      "Please look at the picture carefully before entering\n",
      "The numbers to the left of the matrix indicate the numbering of the rows\n",
      "The numbers at the bottom of the matrix indicate the numbering of the columns\n",
      "Good luck!\n",
      "Please enter the location of the dirt\n",
      "(Example: [0,1])\n",
      "[0,0]\n",
      "Would you like to add more dirt?\n",
      "Enter y if you want to add\n",
      "Enter n if you don't want to add\n",
      "n\n"
     ]
    },
    {
     "data": {
      "image/png": "[encoded data removed]",
      "text/plain": [
       "<Figure size 432x288 with 1 Axes>"
      ]
     },
     "metadata": {
      "needs_background": "light"
     },
     "output_type": "display_data"
    },
    {
     "name": "stdout",
     "output_type": "stream",
     "text": [
      "Now you must enter the location of the cleaner \n",
      "This is an input template: [row,column]\n",
      "'row' is a number that indicates the location of the cell in rows\n",
      "'column' is a number that indicates the location of the cell in columns\n",
      "Please look at the picture carefully before entering\n",
      "The numbers to the left of the matrix indicate the numbering of the rows\n",
      "The numbers at the bottom of the matrix indicate the numbering of the columns\n",
      "Good luck!\n",
      "Please enter the location of the cleaner\n",
      "(Example: [0,1])\n",
      "[0,1]\n"
     ]
    },
    {
     "data": {
      "image/png": "[encoded data removed]",
      "text/plain": [
       "<Figure size 432x288 with 1 Axes>"
      ]
     },
     "metadata": {
      "needs_background": "light"
     },
     "output_type": "display_data"
    },
    {
     "name": "stdout",
     "output_type": "stream",
     "text": [
      "[0, 1]\n",
      "Now the cleaner does: move right\n"
     ]
    },
    {
     "data": {
      "image/png": "[encoded data removed]",
      "text/plain": [
       "<Figure size 432x288 with 1 Axes>"
      ]
     },
     "metadata": {
      "needs_background": "light"
     },
     "output_type": "display_data"
    },
    {
     "name": "stdout",
     "output_type": "stream",
     "text": [
      "[0, 2]\n",
      "Now the cleaner does: move down\n"
     ]
    },
    {
     "data": {
      "image/png": "[encoded data removed]",
      "text/plain": [
       "<Figure size 432x288 with 1 Axes>"
      ]
     },
     "metadata": {
      "needs_background": "light"
     },
     "output_type": "display_data"
    },
    {
     "name": "stdout",
     "output_type": "stream",
     "text": [
      "[1, 2]\n",
      "Now the cleaner does: move left\n"
     ]
    },
    {
     "data": {
      "image/png": "[encoded data removed]",
      "text/plain": [
       "<Figure size 432x288 with 1 Axes>"
      ]
     },
     "metadata": {
      "needs_background": "light"
     },
     "output_type": "display_data"
    },
    {
     "name": "stdout",
     "output_type": "stream",
     "text": [
      "[1, 1]\n",
      "Now the cleaner does: move left\n"
     ]
    },
    {
     "data": {
      "image/png": "[encoded data removed]",
      "text/plain": [
       "<Figure size 432x288 with 1 Axes>"
      ]
     },
     "metadata": {
      "needs_background": "light"
     },
     "output_type": "display_data"
    },
    {
     "name": "stdout",
     "output_type": "stream",
     "text": [
      "[1, 0]\n",
      "Now the cleaner does: move down\n"
     ]
    },
    {
     "data": {
      "image/png": "[encoded data removed]",
      "text/plain": [
       "<Figure size 432x288 with 1 Axes>"
      ]
     },
     "metadata": {
      "needs_background": "light"
     },
     "output_type": "display_data"
    },
    {
     "name": "stdout",
     "output_type": "stream",
     "text": [
      "[2, 0]\n",
      "Now the cleaner does: move right\n"
     ]
    },
    {
     "data": {
      "image/png": "[encoded data removed]",
      "text/plain": [
       "<Figure size 432x288 with 1 Axes>"
      ]
     },
     "metadata": {
      "needs_background": "light"
     },
     "output_type": "display_data"
    },
    {
     "name": "stdout",
     "output_type": "stream",
     "text": [
      "[2, 1]\n",
      "Now the cleaner does: move right\n"
     ]
    },
    {
     "data": {
      "image/png": "[encoded data removed]",
      "text/plain": [
       "<Figure size 432x288 with 1 Axes>"
      ]
     },
     "metadata": {
      "needs_background": "light"
     },
     "output_type": "display_data"
    },
    {
     "name": "stdout",
     "output_type": "stream",
     "text": [
      "[2, 2]\n",
      "Now the cleaner does: move up\n"
     ]
    },
    {
     "data": {
      "image/png": "[encoded data removed]",
      "text/plain": [
       "<Figure size 432x288 with 1 Axes>"
      ]
     },
     "metadata": {
      "needs_background": "light"
     },
     "output_type": "display_data"
    },
    {
     "name": "stdout",
     "output_type": "stream",
     "text": [
      "[0, 0]\n",
      "Now the cleaner does: clean\n"
     ]
    },
    {
     "data": {
      "image/png": "[encoded data removed]",
      "text/plain": [
       "<Figure size 432x288 with 1 Axes>"
      ]
     },
     "metadata": {
      "needs_background": "light"
     },
     "output_type": "display_data"
    },
    {
     "name": "stdout",
     "output_type": "stream",
     "text": [
      "[0, 0]\n",
      "The matrix is cleaned!\n"
     ]
    },
    {
     "data": {
      "image/png": "[encoded data removed]",
      "text/plain": [
       "<Figure size 432x288 with 1 Axes>"
      ]
     },
     "metadata": {
      "needs_background": "light"
     },
     "output_type": "display_data"
    },
    {
     "name": "stdout",
     "output_type": "stream",
     "text": [
      "[0, 0]\n"
     ]
    }
   ],
   "source": [
    "# Algorithm of program operation\n",
    "\n",
    "# инициализация размера матрицы\n",
    "N = input_N()\n",
    "\n",
    "# создание матрицы\n",
    "Matrix = create_matrix(N)\n",
    "\n",
    "# создание на матрицы грязи\n",
    "Matrix = input_dirt(Matrix)\n",
    "\n",
    "# создание на матрице уборщика\n",
    "Matrix = input_cleaner_location(Matrix)\n",
    "\n",
    "# с метода action добываем действие и местоположение уборщика\n",
    "tmp = action(Matrix)\n",
    "Action = tmp[0]\n",
    "Cleaner = tmp[1]\n",
    "\n",
    "# инициализируем флаг\n",
    "flag = True\n",
    "\n",
    "# инициалицируем цикл\n",
    "while flag:\n",
    "    \n",
    "#   с метода do_action добываем обновленную матрицу и флаг, который показывает чиста ли матрица\n",
    "    tmp2 = do_action(Matrix, Action)\n",
    "    Matrix = tmp2[0]\n",
    "    \n",
    "#   если матрица чиста\n",
    "    if tmp2[1]:\n",
    "        \n",
    "#       заканчиваем цикл\n",
    "        flag = True\n",
    "    \n",
    "#   иначе\n",
    "    else:\n",
    "        \n",
    "#       продолжаем цикл\n",
    "        flag = False\n",
    "    \n",
    "#   с метода action добываем действие и местоположение уборщика\n",
    "    tmp = action(Matrix)\n",
    "    Action = tmp[0]\n",
    "    Cleaner = tmp[1]"
   ]
  },
  {
   "cell_type": "code",
   "execution_count": null,
   "id": "82582d72",
   "metadata": {},
   "outputs": [],
   "source": []
  }
 ],
 "metadata": {
  "kernelspec": {
   "display_name": "Python 3 (ipykernel)",
   "language": "python",
   "name": "python3"
  },
  "language_info": {
   "codemirror_mode": {
    "name": "ipython",
    "version": 3
   },
   "file_extension": ".py",
   "mimetype": "text/x-python",
   "name": "python",
   "nbconvert_exporter": "python",
   "pygments_lexer": "ipython3",
   "version": "3.9.7"
  }
 },
 "nbformat": 4,
 "nbformat_minor": 5
}
