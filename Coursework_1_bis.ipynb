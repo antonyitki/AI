{
 "cells": [
  {
   "cell_type": "code",
   "execution_count": 3,
   "id": "fee880f5",
   "metadata": {},
   "outputs": [],
   "source": [
    "################################################\n",
    "#Coursework 1\n",
    "#YIT19488399, Tony.\n",
    "#Delivery date: 15 Februeary 2022\n",
    "#Value: 25% of total\n",
    "################################################"
   ]
  },
  {
   "cell_type": "code",
   "execution_count": 4,
   "id": "b0325ea1",
   "metadata": {},
   "outputs": [],
   "source": [
    "import numpy as np\n",
    "\n",
    "def initial_state():\n",
    "    #global variables avaiable in code outside this cell in Jupyter notebook\n",
    "    global matrix_size\n",
    "    global F\n",
    "    #Validationg user input\n",
    "    while True:\n",
    "        print('Enter 3, 4 or 5:')\n",
    "        matrix_size = input()\n",
    "        try:\n",
    "            matrix_size = int(matrix_size)\n",
    "        except:\n",
    "            print('Please use numeric digits.')\n",
    "            continue\n",
    "        if (matrix_size !=3 and matrix_size !=4 and matrix_size !=5):\n",
    "            print('Please enter a positive number.')\n",
    "            continue\n",
    "        break\n",
    "    print(f'\\nYour matrix size is {matrix_size}.')\n",
    "\n",
    "\n",
    "\n",
    "    F = np.zeros(shape=[matrix_size,matrix_size], dtype=int)  # Feasible \n",
    "    #F[0,1] = 1; F[0,3] = 1; F[1,0] = 1; F[2,3] = 1; F[3,2] = 1\n",
    "    print((F))\n",
    "    #Entering the dirts\n",
    "    while (int(input(\"\\nEnter 999 (if NO dirts) to exit or 7 to continue (entering dirts) \"))) != 999:\n",
    "        #DO input validation only for range in matrix(program accept incoherences, but crash at the end.)\n",
    "        a = int(input(f\"x(from 0 to {len(F)-1}) = \"))\n",
    "        b = int(input(f\"y(from 0 to {len(F)-1}) = \"))\n",
    "        F[a,b] = 1\n",
    "    print(F)\n",
    "    #DO input validation only for range in matrix\n",
    "    F[(int(input(\"\\nInitial x for cleaner = \")),int(input(\"Initial y for cleaner = \")))] = 2\n",
    "    print(\"\\n\\nThe initial position of the cleaner and the dirts: \")\n",
    "    print(\"0 = clean, 1 = dirt and 2 = position agent:\\n\")\n",
    "    print(F)\n",
    "    return F\n"
   ]
  },
  {
   "cell_type": "code",
   "execution_count": 5,
   "id": "0136b7c0",
   "metadata": {},
   "outputs": [],
   "source": [
    "#Vacuum cleaner using loops:\n",
    "def moving(x,y):\n",
    "    print(\"\\nMoving from room \",(x,y),)\n",
    "\n",
    "    \n",
    "def cleaning():\n",
    "    print(\"Before cleaning the room I detect all of these dirts\")\n",
    "    print(F\"\\n\")\n",
    "    i =0\n",
    "    j = 0\n",
    "    z = 0\n",
    "    print(F)\n",
    "    for i in range(len(F)):\n",
    "            for j in range(len(F)):\n",
    "                if F[i][j] == 2:\n",
    "                    print(\"\\nInitial position of agent cleaner:\",(i,j))\n",
    "                    moving(i,j)\n",
    "                    F[i][j] = 0\n",
    "                    z+=1\n",
    "                    for i in range(len(F)):\n",
    "                        for j in range(len(F)):\n",
    "                            if F[i][j] == 1:\n",
    "                                moving(i,j)\n",
    "                                F[i][j] = 0\n",
    "                                z+=1\n",
    "\n",
    "    print(F)\n",
    "    f = len(F)*len(F)\n",
    "    print(f\"\\nTotal number of rooms = {f}\")\n",
    "    performance= (100-((z/f)*100))\n",
    "    print(\"\\nRoom/s is/are clean now, Thanks for using my agent\")\n",
    "    print('\\nperformance=',performance,'%')\n",
    "    print(f\"In total agent cleaned: {z} room/s\")\n",
    "    display(F)\n",
    "    \n"
   ]
  },
  {
   "cell_type": "code",
   "execution_count": 6,
   "id": "a536b223",
   "metadata": {},
   "outputs": [
    {
     "name": "stdout",
     "output_type": "stream",
     "text": [
      "Wellcome to agent cleaner. Press Enter!\n",
      "Enter 3, 4 or 5:\n",
      "4\n",
      "\n",
      "Your matrix size is 4.\n",
      "[[0 0 0 0]\n",
      " [0 0 0 0]\n",
      " [0 0 0 0]\n",
      " [0 0 0 0]]\n",
      "\n",
      "Enter 999 (if NO dirts) to exit or 7 to continue (entering dirts) 7\n",
      "x(from 0 to 3) = 3\n",
      "y(from 0 to 3) = 0\n",
      "\n",
      "Enter 999 (if NO dirts) to exit or 7 to continue (entering dirts) 7\n",
      "x(from 0 to 3) = 2\n",
      "y(from 0 to 3) = 2\n",
      "\n",
      "Enter 999 (if NO dirts) to exit or 7 to continue (entering dirts) 999\n",
      "[[0 0 0 0]\n",
      " [0 0 0 0]\n",
      " [0 0 1 0]\n",
      " [1 0 0 0]]\n",
      "\n",
      "Initial x for cleaner = 1\n",
      "Initial y for cleaner = 1\n",
      "\n",
      "\n",
      "The initial position of the cleaner and the dirts: \n",
      "0 = clean, 1 = dirt and 2 = position agent:\n",
      "\n",
      "[[0 0 0 0]\n",
      " [0 2 0 0]\n",
      " [0 0 1 0]\n",
      " [1 0 0 0]]\n",
      "Before cleaning the room I detect all of these dirts\n",
      "\n",
      "\n",
      "[[0 0 0 0]\n",
      " [0 2 0 0]\n",
      " [0 0 1 0]\n",
      " [1 0 0 0]]\n",
      "\n",
      "Initial position of agent cleaner: (1, 1)\n",
      "\n",
      "Moving from room  (1, 1)\n",
      "\n",
      "Moving from room  (2, 2)\n",
      "\n",
      "Moving from room  (3, 0)\n",
      "[[0 0 0 0]\n",
      " [0 0 0 0]\n",
      " [0 0 0 0]\n",
      " [0 0 0 0]]\n",
      "\n",
      "Total number of rooms = 16\n",
      "\n",
      "Room/s is/are clean now, Thanks for using my agent\n",
      "\n",
      "performance= 81.25 %\n",
      "In total agent cleaned: 3 room/s\n"
     ]
    },
    {
     "data": {
      "text/plain": [
       "array([[0, 0, 0, 0],\n",
       "       [0, 0, 0, 0],\n",
       "       [0, 0, 0, 0],\n",
       "       [0, 0, 0, 0]])"
      ]
     },
     "metadata": {},
     "output_type": "display_data"
    },
    {
     "name": "stdout",
     "output_type": "stream",
     "text": [
      "Thank you for using my agent. Have a good day!\n"
     ]
    }
   ],
   "source": [
    "#Runing the agent:\n",
    "print(\"Wellcome to agent cleaner. Press Enter!\")\n",
    "if __name__ == '__main__':\n",
    "    initial_state()\n",
    "    cleaning()\n",
    "print(\"Thank you for using my agent. Have a good day!\")"
   ]
  },
  {
   "cell_type": "code",
   "execution_count": 7,
   "id": "82a6a1d4",
   "metadata": {},
   "outputs": [
    {
     "name": "stdout",
     "output_type": "stream",
     "text": [
      "Enter to continue\n",
      "Enter 3, 4 or 5:\n",
      "4\n",
      "\n",
      "Your matrix size is 4.\n",
      "[0, 0]    [1, 0]    [2, 0]    [3, 0]    \n",
      "\n",
      "[0, 1]    [1, 1]    [2, 1]    [3, 1]    \n",
      "\n",
      "[0, 2]    [1, 2]    [2, 2]    [3, 2]    \n",
      "\n",
      "[0, 3]    [1, 3]    [2, 3]    [3, 3]    \n",
      "\n",
      "This is the initial place to clean:  [(0, 0), (0, 1), (0, 2), (0, 3), (1, 0), (1, 1), (1, 2), (1, 3), (2, 0), (2, 1), (2, 2), (2, 3), (3, 0), (3, 1), (3, 2), (3, 3)]\n",
      "\n",
      "Simplifacation: \n",
      "[[0, 0, 0, 0], [0, 0, 0, 0], [0, 0, 0, 0], [0, 0, 0, 0]]\n",
      "\n",
      "Maximise simplification (each zero is a (x,y) simplification):\n",
      "[0 0 0 0 0 0 0 0 0 0 0 0 0 0 0 0]\n"
     ]
    }
   ],
   "source": [
    "############################################################################\n",
    "############################################################################\n",
    "############################################################################\n",
    "#Another more graphical aproach:\n",
    "\n",
    "#Environment:\n",
    "import numpy as np\n",
    "def environment(matrix_size):\n",
    "    #Validationg user input\n",
    "    while True:\n",
    "        print('Enter 3, 4 or 5:')\n",
    "        matrix_size = input()\n",
    "        try:\n",
    "            matrix_size = int(matrix_size)\n",
    "        except:\n",
    "            print('Please use numeric digits.')\n",
    "            continue\n",
    "        if (matrix_size !=3 and matrix_size !=4 and matrix_size !=5):\n",
    "            print('Please enter a positive number.')\n",
    "            continue\n",
    "        break\n",
    "    print(f'\\nYour matrix size is {matrix_size}.')\n",
    "\n",
    "    #printing square board\n",
    "    for j in range(matrix_size):\n",
    "        #for j in range(matrix_size):\n",
    "        for i in range(matrix_size):\n",
    "            #for j in range(matrix_size):\n",
    "\n",
    "                print([i,j], end = '  ')\n",
    "                print(end = '  ')\n",
    "        print()\n",
    "        print()\n",
    "    global initial_stage\n",
    "    initial_stage = []\n",
    "    \n",
    "    global simple_matrix\n",
    "    global super_simple_matrix\n",
    "    simple_matrix = []\n",
    "    super_simple_matrix = []\n",
    "    \n",
    "    for x in range(matrix_size):\n",
    "        for y in range(matrix_size):\n",
    "            initial_stage.append((x, y))\n",
    "    print(\"This is the initial place to clean: \" , initial_stage)\n",
    "    print(\"\\nSimplifacation: \")\n",
    "    simple_matrix = ([[ 0 for i in range(matrix_size) ] for j in range(matrix_size) ])\n",
    "    print(simple_matrix)\n",
    "    print(\"\\nMaximise simplification (each zero is a (x,y) simplification):\")\n",
    "    super_simple_matrix = ((np.zeros(len(initial_stage),int)))\n",
    "    print(super_simple_matrix)\n",
    "    \n",
    "#calling function to verify is working\n",
    "environment(input(\"Enter to continue\"))\n",
    "\n"
   ]
  },
  {
   "cell_type": "code",
   "execution_count": 8,
   "id": "1f8bf242",
   "metadata": {},
   "outputs": [
    {
     "name": "stdout",
     "output_type": "stream",
     "text": [
      "Enter number of dirts elements in the list : 2\n",
      "X and pres Enter.\n",
      "Y and pres Enter.\n",
      "Coordinate will be generated!\n",
      "Only use integers avaiable in the previous matrix, please\n",
      "Enter element No-1: \n",
      "x = 1\n",
      "y = 1\n",
      "Enter element No-2: \n",
      "x = 3\n",
      "y = 1\n",
      "The entered list of dirts is: \n",
      " [[1, 1], [3, 1]]\n"
     ]
    },
    {
     "data": {
      "text/plain": [
       "[[1, 1], [3, 1]]"
      ]
     },
     "execution_count": 8,
     "metadata": {},
     "output_type": "execute_result"
    }
   ],
   "source": [
    "def select_dirt():\n",
    "    global location_dirts\n",
    "    global ele\n",
    "    location_dirts = []\n",
    "    # Input number of elemetns\n",
    "    n = int(input(\"Enter number of dirts elements in the list : \"))\n",
    "    print(\"X and pres Enter.\\nY and pres Enter.\\nCoordinate will be generated!\\nOnly use integers\" +\n",
    "          \" avaiable in the previous matrix, please\")\n",
    "    # Each sublist has two elements\n",
    "    for i in range(0, n):\n",
    "        print(\"Enter element No-{}: \".format(i + 1))\n",
    "        ele = [int(input(\"x = \")), int(input(\"y = \"))]\n",
    "        location_dirts.append(ele)\n",
    "    print(\"The entered list of dirts is: \\n\", location_dirts)\n",
    "    return(location_dirts)\n",
    "    \n",
    "select_dirt()"
   ]
  },
  {
   "cell_type": "code",
   "execution_count": 9,
   "id": "1f83e43a",
   "metadata": {},
   "outputs": [
    {
     "data": {
      "image/png": "[encoded data removed]",
      "text/plain": [
       "<Figure size 432x288 with 1 Axes>"
      ]
     },
     "metadata": {
      "needs_background": "light"
     },
     "output_type": "display_data"
    }
   ],
   "source": [
    "import numpy as np\n",
    "import matplotlib.pyplot as plt\n",
    "  \n",
    "# The data are given as list of lists (2d list)\n",
    "data = np.array(location_dirts)\n",
    "# Taking transpose\n",
    "x, y = data.T\n",
    "  \n",
    "# plot our list in X,Y coordinates\n",
    "plt.scatter(x, y)\n",
    "plt.title(\"PLOT of DIRTS\")\n",
    "plt.xlabel(\"X-AXIS\")\n",
    "plt.ylabel(\"Y-AXIS\")\n",
    "plt.show()"
   ]
  },
  {
   "cell_type": "code",
   "execution_count": 10,
   "id": "7fa4c52e",
   "metadata": {},
   "outputs": [
    {
     "name": "stdout",
     "output_type": "stream",
     "text": [
      "x(from 0 to 3) = 3\n",
      "y(from 0 to 3) = 2\n"
     ]
    },
    {
     "data": {
      "image/png": "[encoded data removed]",
      "text/plain": [
       "<Figure size 432x288 with 1 Axes>"
      ]
     },
     "metadata": {
      "needs_background": "light"
     },
     "output_type": "display_data"
    }
   ],
   "source": [
    "#initial position of agent cleaneer:\n",
    "a = int(input(f\"x(from 0 to {len(simple_matrix)-1}) = \"))\n",
    "b = int(input(f\"y(from 0 to {len(simple_matrix)-1}) = \"))\n",
    "\n",
    "import numpy as np\n",
    "import matplotlib.pyplot as plt\n",
    "  \n",
    "# plot our list in X,Y coordinates\n",
    "plt.scatter(a, b)\n",
    "plt.scatter(x, y)\n",
    "plt.title(\"PLOT of DIRTS and AGENT\")\n",
    "plt.xlabel(\"X-AXIS\")\n",
    "plt.ylabel(\"Y-AXIS\")\n",
    "plt.grid()\n",
    "plt.show()"
   ]
  },
  {
   "cell_type": "code",
   "execution_count": 11,
   "id": "55683aa7",
   "metadata": {},
   "outputs": [],
   "source": [
    "#Continue working on action, check_place and main functions."
   ]
  },
  {
   "cell_type": "code",
   "execution_count": 13,
   "id": "18d31b34",
   "metadata": {},
   "outputs": [],
   "source": [
    "############################################################################\n",
    "############################################################################\n",
    "############################################################################\n",
    "#Third and final aproach:\n",
    "#Connecting libraries\n",
    "#library for mathematical operations\n",
    "import numpy as np\n",
    "\n",
    "#libraries to connect heatmap (https://seaborn.pydata.org/generated/seaborn.heatmap.html)\n",
    "import pandas as pd\n",
    "import seaborn as sns\n",
    "import matplotlib.pyplot as plt\n",
    "\n",
    "#library to connect regular expressions\n",
    "import re\n",
    "\n",
    "\n",
    "#Variable declaration\n",
    "#order of matrix\n",
    "N = 0\n",
    "\n",
    "#our matrix\n",
    "Matrix = []\n",
    "\n",
    "#cleaner and its location on the matrix\n",
    "Cleaner = [0,0]\n",
    "\n",
    "#possible actions of the cleaner\n",
    "Actions = [\"move up\", \"move down\", \"move left\", \"move right\", \"clean\"] #row_sub[0], row_add[1], col_sub[2], col_add[3]\n",
    "\n",
    "#cleaner action\n",
    "Action = 0\n",
    "\n"
   ]
  },
  {
   "cell_type": "code",
   "execution_count": 14,
   "id": "0d1c5b31",
   "metadata": {},
   "outputs": [],
   "source": [
    "#Input rank matrix\n",
    "#function for introducing matrix order (N)\n",
    "def input_N():\n",
    "    \n",
    "#   we create a flag (bool) in order to know if the user entered the variable correctly\n",
    "    flag = True\n",
    "    \n",
    "#   create a cycle. It is needed so that if the input is incorrect, the user can try to enter another chance\n",
    "    while flag:\n",
    "        \n",
    "#       a variable that is written to what the user enters\n",
    "        tmp = input(\"Please enter the size of the matrix \\n(You can only enter 3, 4 or 5):\\n\")\n",
    "    \n",
    "#       rezult_input - a variable that uses regular expressions to check if what the user (tmp) entered is a number\n",
    "#       if what the user entered (tmp) is a number, then it will be written to rezult_input\n",
    "        rezult_input = re.match(\"^\\d+$\", tmp)\n",
    "    \n",
    "#       if rezult_input is not empty (that is, write the number that the user entered into it) \n",
    "        if rezult_input is not None:\n",
    "        \n",
    "#           if this number is not 0, 1 or 2 (negative numbers would not be written using this regular expression \"^\\d+$\")\n",
    "            if int(rezult_input.group(0)) != 0 and int(rezult_input.group(0)) != 1 and int(rezult_input.group(0)) != 2:\n",
    "        \n",
    "#               set the initial flag (flag) to False (that is, it ends the loop)\n",
    "                flag = False \n",
    "\n",
    "#           otherwise we display an error and continue the loop\n",
    "            else:\n",
    "                print(\"You have entered an incorrect value \\nPlease try again\")\n",
    "        else:\n",
    "            print(\"You have entered an incorrect value \\nPlease try again\")        \n",
    "    return int(tmp)"
   ]
  },
  {
   "cell_type": "code",
   "execution_count": 15,
   "id": "b3c0484c",
   "metadata": {},
   "outputs": [],
   "source": [
    "#Сreate matrix\n",
    "#size is the N that the user has already entered\n",
    "def create_matrix(size):\n",
    "    \n",
    "#   using arange we create a one-dimensional array.\n",
    "#   using reshape create a square matrix\n",
    "    matrix_create = np.arange(size**2).reshape((size,size)) * 0\n",
    "    return matrix_create"
   ]
  },
  {
   "cell_type": "code",
   "execution_count": 16,
   "id": "22be399d",
   "metadata": {},
   "outputs": [],
   "source": [
    "#User address template\n",
    "#function to display explanations for the user\n",
    "def print_enter(str):\n",
    "    tmp1 = \"Now you must enter the location of the \"\n",
    "    tmp2 = \" \\nThis is an input template: [row,column]\"\n",
    "    tmp3 = \"\\n'row' is a number that indicates the location of the cell in rows\"\n",
    "    tmp4 = \"\\n'column' is a number that indicates the location of the cell in columns\"\n",
    "    tmp5 = \"\\nPlease look at the picture carefully before entering\"\n",
    "    tmp6 = \"\\nThe numbers to the left of the matrix indicate the numbering of the rows\"\n",
    "    tmp7 = \"\\nThe numbers at the bottom of the matrix indicate the numbering of the columns\"\n",
    "    tmp8 = \"\\nGood luck!\"\n",
    "    \n",
    "#   string concatenation\n",
    "    rez_str = tmp1 + str + tmp2 + tmp3 + tmp4 + tmp5 + tmp6 + tmp7 + tmp8\n",
    "    return rez_str\n"
   ]
  },
  {
   "cell_type": "code",
   "execution_count": 17,
   "id": "571fd414",
   "metadata": {},
   "outputs": [],
   "source": [
    "#Enter a dirt(mud entry)\n",
    "def input_dirt(matrix):\n",
    "    \n",
    "#   call the show_heatmap method to show the user the matrix\n",
    "    show_heatmap(matrix)\n",
    "    \n",
    "#   we create a flag (bool) in order to know if the user entered the location of the dirt correctly\n",
    "    flag_add = True\n",
    "    \n",
    "#   call the method for explanation\n",
    "    print(print_enter(\"dirt\"))\n",
    "    \n",
    "#   create a cycle. It is needed so that if the input is incorrect, the user can try to enter another\n",
    "    while flag_add:\n",
    "        \n",
    "#       create a location variable, it will store the location of the dirt on the matrix (this is the result of the input_row_col method)\n",
    "        location = input_row_col(\"dirt\")\n",
    "        \n",
    "#       if the row entered by the user is less than the size of the matrix and\n",
    "#       the column entered by the user is less than the size of the matrix\n",
    "        if location[0] < len(matrix) and location[1] < len(matrix):\n",
    "        \n",
    "#           then we reflect on the matrix in the place that the user entered, a dark blue square\n",
    "            matrix[location[0], location[1]] = 3\n",
    "\n",
    "#           run the add_more_dirt function and assign its result to flag_add\n",
    "            flag_add = add_more_dirt()\n",
    "    \n",
    "#       otherwise we display an error and continue the loop\n",
    "        else:\n",
    "            print(\"You have entered an incorrect value \\nPlease try again\")\n",
    "\n",
    "#   call the show_heatmap method to show the user the updated matrix\n",
    "    show_heatmap(matrix)\n",
    "    return matrix\n"
   ]
  },
  {
   "cell_type": "code",
   "execution_count": 18,
   "id": "1557ae1c",
   "metadata": {},
   "outputs": [],
   "source": [
    "#Adding a dirt\n",
    "#a method by which it is decided whether the user wants to add more dirt to the matrix\n",
    "def add_more_dirt():\n",
    "    flag_add = True\n",
    "#   we create a flag (bool) in order to know if the user entered his answer correctly\n",
    "    flag_yn = True\n",
    "    \n",
    "#   we start the cycle. It is needed so that if the input is incorrect, the user can try to enter another\n",
    "    while flag_yn:   \n",
    "        \n",
    "#       tmp2 - a variable in which the user's response is written\n",
    "        tmp2 = input(\"Would you like to add more dirt?\" + \n",
    "                 \"\\nEnter y if you want to add\" + \n",
    "                 \"\\nEnter n if you don't want to add\\n\")\n",
    "    \n",
    "#       regex checks the user's response\n",
    "        reg_yes = re.match('^y$', tmp2)\n",
    "        reg_no = re.match('^n$', tmp2)\n",
    "\n",
    "#       if reg_yes (which means the user entered \"y\") is not empty\n",
    "        if reg_yes is not None:\n",
    "        \n",
    "#           end this cycle\n",
    "            flag_yn = False\n",
    "    \n",
    "#           in flag_add we write True. This means that the user wants to add more dirt.\n",
    "            flag_add = True\n",
    "    \n",
    "#       otherwise: if reg_no (which means that the user entered \"n\") is not empty\n",
    "        elif reg_no is not None:\n",
    "        \n",
    "#           end this cycle\n",
    "            flag_yn = False\n",
    "    \n",
    "#           in flag_add we write False. This means that the user no longer wants to add dirt.\n",
    "            flag_add = False\n",
    "    \n",
    "#       otherwise\n",
    "        else:\n",
    "        \n",
    "#           the loop continues because the user entered an invalid value\n",
    "            flag_yn = True\n",
    "            print(\"You have entered an incorrect value \\nPlease try again\")\n",
    "    return flag_add\n",
    "\n"
   ]
  },
  {
   "cell_type": "code",
   "execution_count": 19,
   "id": "5bb04f52",
   "metadata": {},
   "outputs": [],
   "source": [
    "#Input cleaner's location\n",
    "def input_cleaner_location(matrix):\n",
    "    \n",
    "#   we create a flag (bool) in order to know if the user entered his answer correctly\n",
    "    flag = True\n",
    "    \n",
    "#   call method for clarification\n",
    "    print(print_enter(\"cleaner\"))\n",
    "    \n",
    "#   we start the cycle. It is needed so that if the input is incorrect, the user can try to enter another\n",
    "    while flag:\n",
    "        \n",
    "#       assign the result of the input_row_col method to the new location variable\n",
    "        location = input_row_col(\"cleaner\")\n",
    "            \n",
    "#       if the row entered by the user is less than the size of the matrix and\n",
    "#       the column entered by the user is less than the size of the matrix\n",
    "        if location[0] < len(matrix) and location[1] < len(matrix):\n",
    "        \n",
    "#           assign the flag variable to False, that is, this ends the cycle\n",
    "            flag = False\n",
    "    \n",
    "#           if the location the user entered is 3 (meaning it's dirty)\n",
    "            if matrix[location[0], location[1]] == 3:\n",
    "        \n",
    "#               this location is given a value of 2 (the color changes to a slightly lighter tone)\n",
    "                matrix[location[0], location[1]] = 2\n",
    "    \n",
    "#           otherwise: if the location entered by the user is 0 (meaning it's clean)\n",
    "            elif matrix[location[0], location[1]] == 0:\n",
    "        \n",
    "#               this location is assigned the value 1 (color is light blue)\n",
    "                matrix[location[0], location[1]] = 1\n",
    "    \n",
    "#           otherwise, an error output (this option is not possible)\n",
    "            else:\n",
    "                print(\"Error! \\nSomething wrong! \\nRestart the program\")\n",
    "            \n",
    "#       otherwise output incorrect input\n",
    "        else:\n",
    "            print(\"You have entered an incorrect value \\nPlease try again\")\n",
    "            \n",
    "#   output of the updated matrix\n",
    "    show_heatmap(matrix)\n",
    "    return matrix\n"
   ]
  },
  {
   "cell_type": "code",
   "execution_count": 20,
   "id": "7d06f26a",
   "metadata": {},
   "outputs": [],
   "source": [
    "#Enter rows columns for a cell\n",
    "#entering a row and column up to the location of the cleaner or dirt\n",
    "def input_row_col(str1):\n",
    "    \n",
    "#   variable to store the location\n",
    "    location = [0, 0]\n",
    "    \n",
    "#   tmp_str - variable for displaying instructions to the user\n",
    "    tmp_str = \"Please enter the location of the \" + str(str1) + \"\\n(Example: [0,1])\\n\"\n",
    "    \n",
    "#   tmp1 - variable in which the user's response is written\n",
    "    tmp1 = input(tmp_str)\n",
    "    \n",
    "#   regex for checking the correctness of the introduction (tmp_row for a row, tmp_col for a column),\n",
    "#   this test is not complete continuation of the test below\n",
    "    tmp_row = re.match('^\\[\\d+', tmp1).group(0)\n",
    "    tmp_col = re.search('\\d+\\]$', tmp1).group(0)\n",
    "\n",
    "#   if tmp_row is not empty and tmp_col is also not empty\n",
    "    if tmp_row is not None and tmp_col is not None:        \n",
    "        \n",
    "#       continuation of the regular check, the result of which is written to new variables: reg_row and reg_col\n",
    "        reg_row = re.search('\\d+$', re.match('^\\[\\d+', tmp1).group(0))\n",
    "        reg_col = re.match('^\\d+', re.search('\\d+\\]$', tmp1).group(0))\n",
    "\n",
    "#       if reg_row is not empty and reg_col is also not empty\n",
    "        if reg_row is not None and reg_col is not None:\n",
    "        \n",
    "#           write the row and column to our location variable\n",
    "            location[0] = int(reg_row.group(0))\n",
    "            location[1] = int(reg_col.group(0))\n",
    "        \n",
    "#       otherwise\n",
    "        else:\n",
    "            print(\"You have entered an incorrect value \\nPlease try again\")\n",
    "    else:\n",
    "        print(\"You have entered an incorrect value \\nPlease try again\")\n",
    "    return location"
   ]
  },
  {
   "cell_type": "code",
   "execution_count": 21,
   "id": "b10f0a8b",
   "metadata": {},
   "outputs": [],
   "source": [
    "#displaying the matrix (https://seaborn.pydata.org/generated/seaborn.heatmap.html)\n",
    "def show_heatmap(arr):\n",
    "    sns.heatmap(arr, vmin=0, vmax=3, annot=False, cbar = False, linewidths=2, linecolor='black', cmap=\"Blues\") \n",
    "    plt.show()\n",
    "    "
   ]
  },
  {
   "cell_type": "code",
   "execution_count": 22,
   "id": "b30c2cee",
   "metadata": {},
   "outputs": [],
   "source": [
    "#The main method of action\n",
    "#method that assigns the desired action\n",
    "def action(matrix):\n",
    "    \n",
    "#   we call a method that looks for the location of the cleaner on the matrix and writes the result of the search to location_cleaner\n",
    "    location_cleaner = action_location_cleaner(matrix)\n",
    "    \n",
    "#   if row is not equal to -1 and column is not equal to -1\n",
    "    if location_cleaner[0] != -1 and location_cleaner[1] != -1:\n",
    "        \n",
    "#       if in the matrix the cleaner is on the dirt\n",
    "        if matrix[location_cleaner[0], location_cleaner[1]] == 2:\n",
    "        \n",
    "#           then action_new is assigned 4 (i.e. \"clean\" action)\n",
    "            action_new = 4\n",
    "    \n",
    "#       otherwise\n",
    "        else: \n",
    "        \n",
    "#           action_new is assigned the result of the action_new_action method\n",
    "            action_new = action_new_action(matrix, location_cleaner)\n",
    "    \n",
    "#   otherwise error\n",
    "    else:\n",
    "        print(\"Error! \\nSomething wrong! \\nRestart the program\")\n",
    "    return [action_new, location_cleaner]"
   ]
  },
  {
   "cell_type": "code",
   "execution_count": 23,
   "id": "92ac7189",
   "metadata": {},
   "outputs": [],
   "source": [
    "#Search for the location of the cleaner on the matrix\n",
    "def action_location_cleaner(matrix):\n",
    "    \n",
    "#   a variable that displays the location of the cleaner on the matrix\n",
    "    location_cleaner = [-1,-1]\n",
    "    \n",
    "#   search in matrix value 2\n",
    "    tmp = np.where(matrix == 2)[0]\n",
    "    \n",
    "#   declaration of variables row and col which are assigned -1\n",
    "    row = -1\n",
    "    col = -1\n",
    "    \n",
    "#   if the size of the tmp variable is 0 (that is, the matrix did not find values 2)\n",
    "    if tmp.size == 0:\n",
    "        \n",
    "#       search in the matrix for the value 1, the result of which is assigned to tmp \n",
    "        tmp = np.where(matrix == 1)[0]\n",
    "    \n",
    "#       if the size of the tmp variable is 0 (that is, the matrix did not find values 1)\n",
    "        if tmp.size == 0:\n",
    "        \n",
    "#           error output\n",
    "            print(\"Error! \\nSomething wrong! \\nRestart the program\")\n",
    "    \n",
    "#       otherwise\n",
    "        else:\n",
    "        \n",
    "#           row and col are assigned the value of the location of the cleaner\n",
    "            row = int(np.where(matrix == 1)[0])\n",
    "            col = int(np.where(matrix == 1)[1])\n",
    "        \n",
    "#   otherwise\n",
    "    else:\n",
    "#       row and col are assigned the value of the location of the cleaner\n",
    "        row = int(np.where(matrix == 2)[0])\n",
    "        col = int(np.where(matrix == 2)[1])\n",
    "        \n",
    "#   assign cleaner location to location_cleaner \n",
    "    location_cleaner = [row,col]\n",
    "    \n",
    "#   displaying the cleaner's location\n",
    "    print(location_cleaner)\n",
    "    return location_cleaner"
   ]
  },
  {
   "cell_type": "code",
   "execution_count": 24,
   "id": "ae9ac72c",
   "metadata": {},
   "outputs": [],
   "source": [
    "# Assign a new action(choosing a new action)\n",
    "def action_new_action(matrix, location_cleaner):\n",
    "    \n",
    "#   variable that denotes action\n",
    "    action_new = -1\n",
    "\n",
    "#   further I will write a row and a column. This means that location_cleaner[0] is the row the cleaner is on,\n",
    "#   and location_cleaner[1] is the column on which the cleaner is located,\n",
    "#   i.e. location_cleaner is the location of the cleaner\n",
    "\n",
    "#   if the row is even and the column is not the last column of the matrix\n",
    "    if location_cleaner[0] % 2 == 0 and location_cleaner[1] != len(matrix) - 1:\n",
    "        \n",
    "#       action = 3 (\"move right\")\n",
    "        action_new = 3\n",
    "    \n",
    "#   otherwise: if the row is odd and the column is not the first column in the matrix\n",
    "    elif location_cleaner[0] % 2 == 1 and location_cleaner[1] != 0:\n",
    "        \n",
    "#       action = 2 (\"move left\")\n",
    "        action_new = 2\n",
    "    \n",
    "#   otherwise: if the column is the last column of the matrix\n",
    "    elif location_cleaner[1] == len(matrix) - 1:\n",
    "        \n",
    "#       if the row is the last row of the matrix\n",
    "        if location_cleaner[0] == len(matrix) - 1:\n",
    "        \n",
    "#           action = 0 (\"move up\")\n",
    "            action_new = 0\n",
    "    \n",
    "#       otherwise: if the row is even\n",
    "        elif location_cleaner[0] % 2 == 0:\n",
    "        \n",
    "#           action = 1 (\"move down\")\n",
    "            action_new = 1\n",
    "    \n",
    "#   otherwise: if the column is the first column in the matrix\n",
    "    elif location_cleaner[1] == 0:\n",
    "        \n",
    "#       if the row is the last row of the matrix\n",
    "        if location_cleaner[0] == len(matrix) - 1:\n",
    "        \n",
    "#           action = 0 (\"move up\")\n",
    "            action_new = 0\n",
    "    \n",
    "#       otherwise: if the row is even\n",
    "        elif location_cleaner[0] % 2 == 1:\n",
    "        \n",
    "#           action = 1 (\"move down\")\n",
    "            action_new = 1\n",
    "\n",
    "#   if the action remains the same -1\n",
    "    if action_new == (-1):\n",
    "        \n",
    "#       error output\n",
    "        print(\"Error! \\nSomething wrong! \\nRestart the program\")\n",
    "    return action_new\n"
   ]
  },
  {
   "cell_type": "code",
   "execution_count": 25,
   "id": "b4f5caf1",
   "metadata": {},
   "outputs": [],
   "source": [
    "#Performing an action(method that performs an action)\n",
    "def do_action(matrix, action):\n",
    "    \n",
    "#   we create a flag (bool) in order to know whether the matrix is clean or not\n",
    "    flag = check_matrix_to_dirt(matrix)\n",
    "    \n",
    "#   if there is dirt in the matrix\n",
    "    if flag:\n",
    "        \n",
    "#       displaying the desired action\n",
    "        print(\"Now the cleaner does: \" + Actions[action]) #\"move up\", \"move down\", \"move left\", \"move right\", \"clean\"\n",
    "        \n",
    "#       if action = 4 (\"clean\")\n",
    "        if action == 4:\n",
    "        \n",
    "#           the matrix in the place where the Cleaner is located is cleaned\n",
    "            matrix[Cleaner[0], Cleaner[1]] = 1\n",
    "    \n",
    "#       otherwise: if action = 0 (\"move up\") and the matrix is odd and the row where the cleaner is located is the last row of the matrix\n",
    "#       and column is the last column of the matrix \n",
    "#       (this condition means that the cleaner has reached the end of the matrix but has not yet cleaned it completely)\n",
    "        elif action == 0 and len(matrix) % 2 == 1 and Cleaner[0] == len(matrix) - 1 and Cleaner[1] == len(matrix) - 1:\n",
    "        \n",
    "#           the matrix in the place where the cleaner was (Cleaner) is cleared (that is, the cleaner left his location)\n",
    "            matrix[Cleaner[0], Cleaner[1]] = 0\n",
    "    \n",
    "#           if the matrix at [0,0] is dirty\n",
    "            if matrix[0,0] == 3:\n",
    "        \n",
    "#               then the matrix at [0,0] becomes dark blue\n",
    "                matrix[0,0] = 2\n",
    "    \n",
    "#           otherwise\n",
    "            else:\n",
    "        \n",
    "#               then the matrix at [0,0] becomes light blue\n",
    "                matrix[0,0] = 1\n",
    "    \n",
    "#       otherwise: if action = 0 (\"move up\") and the matrix is even and the row where the cleaner is located is the last row of the matrix\n",
    "#       and column is the first column of the matrix\n",
    "#       (this condition means that the cleaner has reached the end of the matrix but has not yet cleaned it completely)\n",
    "        elif action == 0 and len(matrix) % 2 == 0 and Cleaner[0] == len(matrix) - 1 and Cleaner[1] == 0:\n",
    "        \n",
    "#           the matrix in the place where the cleaner was (Cleaner) is cleared (that is, the cleaner left his location)\n",
    "            matrix[Cleaner[0], Cleaner[1]] = 0\n",
    "    \n",
    "#           if the matrix at [0,0] is dirty\n",
    "            if matrix[0,0] == 3:\n",
    "        \n",
    "#               then the matrix at [0,0] becomes dark blue\n",
    "                matrix[0,0] = 2\n",
    "    \n",
    "#           otherwise\n",
    "            else:\n",
    "        \n",
    "#               then the matrix at [0,0] becomes light blue\n",
    "                matrix[0,0] = 1\n",
    "    \n",
    "#       else: if action = 0 (\"move up\")\n",
    "        elif action == 0:\n",
    "        \n",
    "#           the matrix in the place where the cleaner was (Cleaner) is cleared (that is, the cleaner left his location)\n",
    "            matrix[Cleaner[0], Cleaner[1]] = 0\n",
    "    \n",
    "#           if the matrix in the upper quadrant is dirty\n",
    "            if matrix[Cleaner[0] - 1, Cleaner[1]] == 3:\n",
    "        \n",
    "#               then the matrix in the upper quadrant acquires a dark blue color\n",
    "                matrix[Cleaner[0] - 1, Cleaner[1]] = 2\n",
    "    \n",
    "#           otherswise\n",
    "            else:\n",
    "        \n",
    "#               then the matrix in the upper quadrant acquires a light blue color\n",
    "                matrix[Cleaner[0] - 1, Cleaner[1]] = 1\n",
    "                \n",
    "#       otherwise: if action = 1 (\"move down\")\n",
    "        elif action == 1:\n",
    "            \n",
    "#           the matrix in the place where the cleaner was (Cleaner) is cleared (that is, the cleaner left his location)\n",
    "            matrix[Cleaner[0], Cleaner[1]] = 0\n",
    "    \n",
    "#           if the matrix in the lower quadrant is dirty\n",
    "            if matrix[Cleaner[0] + 1, Cleaner[1]] == 3:\n",
    "        \n",
    "#               then the matrix in the lower quadrant acquires a dark blue color\n",
    "                matrix[Cleaner[0] + 1, Cleaner[1]] = 2\n",
    "    \n",
    "#           otherwise\n",
    "            else:\n",
    "        \n",
    "#               then the matrix in the lower quadrant acquires a light blue color\n",
    "                matrix[Cleaner[0] + 1, Cleaner[1]] = 1\n",
    "                \n",
    "#       otherwise: if action = 2 (\"move left\")\n",
    "        elif action == 2:\n",
    "            \n",
    "#           the matrix in the place where the cleaner was (Cleaner) is cleared (that is, the cleaner left his location)\n",
    "            matrix[Cleaner[0], Cleaner[1]] = 0\n",
    "    \n",
    "#           if the matrix in the left square is dirty\n",
    "            if matrix[Cleaner[0], Cleaner[1] - 1] == 3:\n",
    "        \n",
    "#               then the matrix in the left square becomes dark blue\n",
    "                matrix[Cleaner[0], Cleaner[1] - 1] = 2\n",
    "            \n",
    "#           otherwise\n",
    "            else:\n",
    "        \n",
    "#               then the matrix in the left square becomes light blue\n",
    "                matrix[Cleaner[0], Cleaner[1] - 1] = 1\n",
    "                \n",
    "#       otherwise: if action = 3 (\"move right\")\n",
    "        elif action == 3:\n",
    "            \n",
    "#           the matrix in the place where the cleaner was (Cleaner) is cleared (that is, the cleaner left his location)\n",
    "            matrix[Cleaner[0], Cleaner[1]] = 0\n",
    "    \n",
    "#           if the matrix in the right square is dirty\n",
    "            if matrix[Cleaner[0], Cleaner[1] + 1] == 3:\n",
    "        \n",
    "#               then the matrix in the right square becomes dark blue\n",
    "                matrix[Cleaner[0], Cleaner[1] + 1] = 2\n",
    "            \n",
    "#           otherwise\n",
    "            else:\n",
    "        \n",
    "#               then the matrix in the right square becomes light blue\n",
    "                matrix[Cleaner[0], Cleaner[1] + 1] = 1\n",
    "    \n",
    "#       otherwise error\n",
    "        else:\n",
    "            print(\"Error! \\nSomething wrong! \\nRestart the program\")\n",
    "            \n",
    "#   otherwise: the matrix is clean\n",
    "    else:\n",
    "        print(\"The matrix is cleaned!\")\n",
    "        \n",
    "#   displaying the matrix\n",
    "    show_heatmap(matrix)\n",
    "    return [matrix, flag]"
   ]
  },
  {
   "cell_type": "code",
   "execution_count": 26,
   "id": "e90f2bc7",
   "metadata": {},
   "outputs": [],
   "source": [
    "# Check the matrix on dirt(checking the matrix for dirt)\n",
    "def check_matrix_to_dirt(matrix):\n",
    "    \n",
    "#   check flag\n",
    "    flag = True\n",
    "    \n",
    "#   checks if there are numbers 2 or 3 in the matrix\n",
    "    tmp1 = np.where(matrix == 2)[0]\n",
    "    tmp2 = np.where(matrix == 3)[0]\n",
    "    \n",
    "#   if both 2 are not present and 3 are not present\n",
    "    if tmp1.size == 0 and tmp2.size == 0:\n",
    "        \n",
    "#       the flag is set to False (i.e. the matrix is clean)\n",
    "        flag = False\n",
    "    return flag\n"
   ]
  },
  {
   "cell_type": "code",
   "execution_count": 27,
   "id": "7aac0a99",
   "metadata": {},
   "outputs": [
    {
     "data": {
      "text/plain": [
       "'\\n# Search for a dirt in a matrix\\ndef action_dirt_search(matrix, location_cleaner):\\n    action_new = -1    \\n    action_mass = [0, 0, 0, 0]  #row_add[1], col_add[3], col_sub[2], row_sub[0]  \\n    if location_cleaner[0] != 0:\\n        if matrix[(location_cleaner[0] - 1), location_cleaner[1]] == 3:\\n            action_new = 0\\n    if location_cleaner[0] != (len(matrix) - 1):\\n        if matrix[(location_cleaner[0] + 1), location_cleaner[1]] == 3:\\n            action_mass[1] = 2\\n    if location_cleaner[1] != 0:\\n        if matrix[location_cleaner[0], (location_cleaner[1] - 1)] == 3:\\n            action_mass[2] = 2\\n    if location_cleaner[1] != (len(matrix) - 1):\\n        if matrix[location_cleaner[0], (location_cleaner[1] + 1)] == 3:\\n            action_mass[3] = 2\\n    if action_new == -1:\\n        count = 0\\n        for i in action_mass:\\n            if i == 2:\\n                action_new = count\\n            count = count + 1\\n    return action_new\\n'"
      ]
     },
     "execution_count": 27,
     "metadata": {},
     "output_type": "execute_result"
    }
   ],
   "source": [
    "'''\n",
    "# Search for a dirt in a matrix\n",
    "def action_dirt_search(matrix, location_cleaner):\n",
    "    action_new = -1    \n",
    "    action_mass = [0, 0, 0, 0]  #row_add[1], col_add[3], col_sub[2], row_sub[0]  \n",
    "    if location_cleaner[0] != 0:\n",
    "        if matrix[(location_cleaner[0] - 1), location_cleaner[1]] == 3:\n",
    "            action_new = 0\n",
    "    if location_cleaner[0] != (len(matrix) - 1):\n",
    "        if matrix[(location_cleaner[0] + 1), location_cleaner[1]] == 3:\n",
    "            action_mass[1] = 2\n",
    "    if location_cleaner[1] != 0:\n",
    "        if matrix[location_cleaner[0], (location_cleaner[1] - 1)] == 3:\n",
    "            action_mass[2] = 2\n",
    "    if location_cleaner[1] != (len(matrix) - 1):\n",
    "        if matrix[location_cleaner[0], (location_cleaner[1] + 1)] == 3:\n",
    "            action_mass[3] = 2\n",
    "    if action_new == -1:\n",
    "        count = 0\n",
    "        for i in action_mass:\n",
    "            if i == 2:\n",
    "                action_new = count\n",
    "            count = count + 1\n",
    "    return action_new\n",
    "'''\n",
    "#Cleaner checks around current position for dirt and move directly to dirt independently previous trajectory\n",
    "#Agent looks like intelligent (AI)\n"
   ]
  },
  {
   "cell_type": "code",
   "execution_count": 28,
   "id": "d3a1dc72",
   "metadata": {},
   "outputs": [
    {
     "name": "stdout",
     "output_type": "stream",
     "text": [
      "Please enter the size of the matrix \n",
      "(You can only enter 3, 4 or 5):\n",
      "7\n"
     ]
    },
    {
     "data": {
      "image/png": "[encoded data removed]",
      "text/plain": [
       "<Figure size 432x288 with 1 Axes>"
      ]
     },
     "metadata": {
      "needs_background": "light"
     },
     "output_type": "display_data"
    },
    {
     "name": "stdout",
     "output_type": "stream",
     "text": [
      "Now you must enter the location of the dirt \n",
      "This is an input template: [row,column]\n",
      "'row' is a number that indicates the location of the cell in rows\n",
      "'column' is a number that indicates the location of the cell in columns\n",
      "Please look at the picture carefully before entering\n",
      "The numbers to the left of the matrix indicate the numbering of the rows\n",
      "The numbers at the bottom of the matrix indicate the numbering of the columns\n",
      "Good luck!\n",
      "Please enter the location of the dirt\n",
      "(Example: [0,1])\n",
      "[4, 5]\n",
      "Would you like to add more dirt?\n",
      "Enter y if you want to add\n",
      "Enter n if you don't want to add\n",
      "y\n",
      "Please enter the location of the dirt\n",
      "(Example: [0,1])\n",
      "[2,2]\n",
      "Would you like to add more dirt?\n",
      "Enter y if you want to add\n",
      "Enter n if you don't want to add\n",
      "n\n"
     ]
    },
    {
     "data": {
      "image/png": "[encoded data removed]",
      "text/plain": [
       "<Figure size 432x288 with 1 Axes>"
      ]
     },
     "metadata": {
      "needs_background": "light"
     },
     "output_type": "display_data"
    },
    {
     "name": "stdout",
     "output_type": "stream",
     "text": [
      "Now you must enter the location of the cleaner \n",
      "This is an input template: [row,column]\n",
      "'row' is a number that indicates the location of the cell in rows\n",
      "'column' is a number that indicates the location of the cell in columns\n",
      "Please look at the picture carefully before entering\n",
      "The numbers to the left of the matrix indicate the numbering of the rows\n",
      "The numbers at the bottom of the matrix indicate the numbering of the columns\n",
      "Good luck!\n",
      "Please enter the location of the cleaner\n",
      "(Example: [0,1])\n",
      "[4, 1]\n"
     ]
    },
    {
     "data": {
      "image/png": "[encoded data removed]",
      "text/plain": [
       "<Figure size 432x288 with 1 Axes>"
      ]
     },
     "metadata": {
      "needs_background": "light"
     },
     "output_type": "display_data"
    },
    {
     "name": "stdout",
     "output_type": "stream",
     "text": [
      "[4, 1]\n",
      "Now the cleaner does: move right\n"
     ]
    },
    {
     "data": {
      "image/png": "[encoded data removed]",
      "text/plain": [
       "<Figure size 432x288 with 1 Axes>"
      ]
     },
     "metadata": {
      "needs_background": "light"
     },
     "output_type": "display_data"
    },
    {
     "name": "stdout",
     "output_type": "stream",
     "text": [
      "[4, 2]\n",
      "Now the cleaner does: move right\n"
     ]
    },
    {
     "data": {
      "image/png": "[encoded data removed]",
      "text/plain": [
       "<Figure size 432x288 with 1 Axes>"
      ]
     },
     "metadata": {
      "needs_background": "light"
     },
     "output_type": "display_data"
    },
    {
     "name": "stdout",
     "output_type": "stream",
     "text": [
      "[4, 3]\n",
      "Now the cleaner does: move right\n"
     ]
    },
    {
     "data": {
      "image/png": "[encoded data removed]",
      "text/plain": [
       "<Figure size 432x288 with 1 Axes>"
      ]
     },
     "metadata": {
      "needs_background": "light"
     },
     "output_type": "display_data"
    },
    {
     "name": "stdout",
     "output_type": "stream",
     "text": [
      "[4, 4]\n",
      "Now the cleaner does: move right\n"
     ]
    },
    {
     "data": {
      "image/png": "[encoded data removed]",
      "text/plain": [
       "<Figure size 432x288 with 1 Axes>"
      ]
     },
     "metadata": {
      "needs_background": "light"
     },
     "output_type": "display_data"
    },
    {
     "name": "stdout",
     "output_type": "stream",
     "text": [
      "[4, 5]\n",
      "Now the cleaner does: clean\n"
     ]
    },
    {
     "data": {
      "image/png": "[encoded data removed]",
      "text/plain": [
       "<Figure size 432x288 with 1 Axes>"
      ]
     },
     "metadata": {
      "needs_background": "light"
     },
     "output_type": "display_data"
    },
    {
     "name": "stdout",
     "output_type": "stream",
     "text": [
      "[4, 5]\n",
      "Now the cleaner does: move right\n"
     ]
    },
    {
     "data": {
      "image/png": "[encoded data removed]",
      "text/plain": [
       "<Figure size 432x288 with 1 Axes>"
      ]
     },
     "metadata": {
      "needs_background": "light"
     },
     "output_type": "display_data"
    },
    {
     "name": "stdout",
     "output_type": "stream",
     "text": [
      "[4, 6]\n",
      "Now the cleaner does: move down\n"
     ]
    },
    {
     "data": {
      "image/png": "[encoded data removed]",
      "text/plain": [
       "<Figure size 432x288 with 1 Axes>"
      ]
     },
     "metadata": {
      "needs_background": "light"
     },
     "output_type": "display_data"
    },
    {
     "name": "stdout",
     "output_type": "stream",
     "text": [
      "[5, 6]\n",
      "Now the cleaner does: move left\n"
     ]
    },
    {
     "data": {
      "image/png": "[encoded data removed]",
      "text/plain": [
       "<Figure size 432x288 with 1 Axes>"
      ]
     },
     "metadata": {
      "needs_background": "light"
     },
     "output_type": "display_data"
    },
    {
     "name": "stdout",
     "output_type": "stream",
     "text": [
      "[5, 5]\n",
      "Now the cleaner does: move left\n"
     ]
    },
    {
     "data": {
      "image/png": "[encoded data removed]",
      "text/plain": [
       "<Figure size 432x288 with 1 Axes>"
      ]
     },
     "metadata": {
      "needs_background": "light"
     },
     "output_type": "display_data"
    },
    {
     "name": "stdout",
     "output_type": "stream",
     "text": [
      "[5, 4]\n",
      "Now the cleaner does: move left\n"
     ]
    },
    {
     "data": {
      "image/png": "[encoded data removed]",
      "text/plain": [
       "<Figure size 432x288 with 1 Axes>"
      ]
     },
     "metadata": {
      "needs_background": "light"
     },
     "output_type": "display_data"
    },
    {
     "name": "stdout",
     "output_type": "stream",
     "text": [
      "[5, 3]\n",
      "Now the cleaner does: move left\n"
     ]
    },
    {
     "data": {
      "image/png": "[encoded data removed]",
      "text/plain": [
       "<Figure size 432x288 with 1 Axes>"
      ]
     },
     "metadata": {
      "needs_background": "light"
     },
     "output_type": "display_data"
    },
    {
     "name": "stdout",
     "output_type": "stream",
     "text": [
      "[5, 2]\n",
      "Now the cleaner does: move left\n"
     ]
    },
    {
     "data": {
      "image/png": "[encoded data removed]",
      "text/plain": [
       "<Figure size 432x288 with 1 Axes>"
      ]
     },
     "metadata": {
      "needs_background": "light"
     },
     "output_type": "display_data"
    },
    {
     "name": "stdout",
     "output_type": "stream",
     "text": [
      "[5, 1]\n",
      "Now the cleaner does: move left\n"
     ]
    },
    {
     "data": {
      "image/png": "[encoded data removed]",
      "text/plain": [
       "<Figure size 432x288 with 1 Axes>"
      ]
     },
     "metadata": {
      "needs_background": "light"
     },
     "output_type": "display_data"
    },
    {
     "name": "stdout",
     "output_type": "stream",
     "text": [
      "[5, 0]\n",
      "Now the cleaner does: move down\n"
     ]
    },
    {
     "data": {
      "image/png": "[encoded data removed]",
      "text/plain": [
       "<Figure size 432x288 with 1 Axes>"
      ]
     },
     "metadata": {
      "needs_background": "light"
     },
     "output_type": "display_data"
    },
    {
     "name": "stdout",
     "output_type": "stream",
     "text": [
      "[6, 0]\n",
      "Now the cleaner does: move right\n"
     ]
    },
    {
     "data": {
      "image/png": "[encoded data removed]",
      "text/plain": [
       "<Figure size 432x288 with 1 Axes>"
      ]
     },
     "metadata": {
      "needs_background": "light"
     },
     "output_type": "display_data"
    },
    {
     "name": "stdout",
     "output_type": "stream",
     "text": [
      "[6, 1]\n",
      "Now the cleaner does: move right\n"
     ]
    },
    {
     "data": {
      "image/png": "[encoded data removed]",
      "text/plain": [
       "<Figure size 432x288 with 1 Axes>"
      ]
     },
     "metadata": {
      "needs_background": "light"
     },
     "output_type": "display_data"
    },
    {
     "name": "stdout",
     "output_type": "stream",
     "text": [
      "[6, 2]\n",
      "Now the cleaner does: move right\n"
     ]
    },
    {
     "data": {
      "image/png": "[encoded data removed]",
      "text/plain": [
       "<Figure size 432x288 with 1 Axes>"
      ]
     },
     "metadata": {
      "needs_background": "light"
     },
     "output_type": "display_data"
    },
    {
     "name": "stdout",
     "output_type": "stream",
     "text": [
      "[6, 3]\n",
      "Now the cleaner does: move right\n"
     ]
    },
    {
     "data": {
      "image/png": "[encoded data removed]",
      "text/plain": [
       "<Figure size 432x288 with 1 Axes>"
      ]
     },
     "metadata": {
      "needs_background": "light"
     },
     "output_type": "display_data"
    },
    {
     "name": "stdout",
     "output_type": "stream",
     "text": [
      "[6, 4]\n",
      "Now the cleaner does: move right\n"
     ]
    },
    {
     "data": {
      "image/png": "[encoded data removed]",
      "text/plain": [
       "<Figure size 432x288 with 1 Axes>"
      ]
     },
     "metadata": {
      "needs_background": "light"
     },
     "output_type": "display_data"
    },
    {
     "name": "stdout",
     "output_type": "stream",
     "text": [
      "[6, 5]\n",
      "Now the cleaner does: move right\n"
     ]
    },
    {
     "data": {
      "image/png": "[encoded data removed]",
      "text/plain": [
       "<Figure size 432x288 with 1 Axes>"
      ]
     },
     "metadata": {
      "needs_background": "light"
     },
     "output_type": "display_data"
    },
    {
     "name": "stdout",
     "output_type": "stream",
     "text": [
      "[6, 6]\n",
      "Now the cleaner does: move up\n"
     ]
    },
    {
     "data": {
      "image/png": "[encoded data removed]",
      "text/plain": [
       "<Figure size 432x288 with 1 Axes>"
      ]
     },
     "metadata": {
      "needs_background": "light"
     },
     "output_type": "display_data"
    },
    {
     "name": "stdout",
     "output_type": "stream",
     "text": [
      "[0, 0]\n",
      "Now the cleaner does: move right\n"
     ]
    },
    {
     "data": {
      "image/png": "[encoded data removed]",
      "text/plain": [
       "<Figure size 432x288 with 1 Axes>"
      ]
     },
     "metadata": {
      "needs_background": "light"
     },
     "output_type": "display_data"
    },
    {
     "name": "stdout",
     "output_type": "stream",
     "text": [
      "[0, 1]\n",
      "Now the cleaner does: move right\n"
     ]
    },
    {
     "data": {
      "image/png": "[encoded data removed]",
      "text/plain": [
       "<Figure size 432x288 with 1 Axes>"
      ]
     },
     "metadata": {
      "needs_background": "light"
     },
     "output_type": "display_data"
    },
    {
     "name": "stdout",
     "output_type": "stream",
     "text": [
      "[0, 2]\n",
      "Now the cleaner does: move right\n"
     ]
    },
    {
     "data": {
      "image/png": "[encoded data removed]",
      "text/plain": [
       "<Figure size 432x288 with 1 Axes>"
      ]
     },
     "metadata": {
      "needs_background": "light"
     },
     "output_type": "display_data"
    },
    {
     "name": "stdout",
     "output_type": "stream",
     "text": [
      "[0, 3]\n",
      "Now the cleaner does: move right\n"
     ]
    },
    {
     "data": {
      "image/png": "[encoded data removed]",
      "text/plain": [
       "<Figure size 432x288 with 1 Axes>"
      ]
     },
     "metadata": {
      "needs_background": "light"
     },
     "output_type": "display_data"
    },
    {
     "name": "stdout",
     "output_type": "stream",
     "text": [
      "[0, 4]\n",
      "Now the cleaner does: move right\n"
     ]
    },
    {
     "data": {
      "image/png": "[encoded data removed]",
      "text/plain": [
       "<Figure size 432x288 with 1 Axes>"
      ]
     },
     "metadata": {
      "needs_background": "light"
     },
     "output_type": "display_data"
    },
    {
     "name": "stdout",
     "output_type": "stream",
     "text": [
      "[0, 5]\n",
      "Now the cleaner does: move right\n"
     ]
    },
    {
     "data": {
      "image/png": "[encoded data removed]",
      "text/plain": [
       "<Figure size 432x288 with 1 Axes>"
      ]
     },
     "metadata": {
      "needs_background": "light"
     },
     "output_type": "display_data"
    },
    {
     "name": "stdout",
     "output_type": "stream",
     "text": [
      "[0, 6]\n",
      "Now the cleaner does: move down\n"
     ]
    },
    {
     "data": {
      "image/png": "[encoded data removed]",
      "text/plain": [
       "<Figure size 432x288 with 1 Axes>"
      ]
     },
     "metadata": {
      "needs_background": "light"
     },
     "output_type": "display_data"
    },
    {
     "name": "stdout",
     "output_type": "stream",
     "text": [
      "[1, 6]\n",
      "Now the cleaner does: move left\n"
     ]
    },
    {
     "data": {
      "image/png": "[encoded data removed]",
      "text/plain": [
       "<Figure size 432x288 with 1 Axes>"
      ]
     },
     "metadata": {
      "needs_background": "light"
     },
     "output_type": "display_data"
    },
    {
     "name": "stdout",
     "output_type": "stream",
     "text": [
      "[1, 5]\n",
      "Now the cleaner does: move left\n"
     ]
    },
    {
     "data": {
      "image/png": "[encoded data removed]",
      "text/plain": [
       "<Figure size 432x288 with 1 Axes>"
      ]
     },
     "metadata": {
      "needs_background": "light"
     },
     "output_type": "display_data"
    },
    {
     "name": "stdout",
     "output_type": "stream",
     "text": [
      "[1, 4]\n",
      "Now the cleaner does: move left\n"
     ]
    },
    {
     "data": {
      "image/png": "[encoded data removed]",
      "text/plain": [
       "<Figure size 432x288 with 1 Axes>"
      ]
     },
     "metadata": {
      "needs_background": "light"
     },
     "output_type": "display_data"
    },
    {
     "name": "stdout",
     "output_type": "stream",
     "text": [
      "[1, 3]\n",
      "Now the cleaner does: move left\n"
     ]
    },
    {
     "data": {
      "image/png": "[encoded data removed]",
      "text/plain": [
       "<Figure size 432x288 with 1 Axes>"
      ]
     },
     "metadata": {
      "needs_background": "light"
     },
     "output_type": "display_data"
    },
    {
     "name": "stdout",
     "output_type": "stream",
     "text": [
      "[1, 2]\n",
      "Now the cleaner does: move left\n"
     ]
    },
    {
     "data": {
      "image/png": "[encoded data removed]",
      "text/plain": [
       "<Figure size 432x288 with 1 Axes>"
      ]
     },
     "metadata": {
      "needs_background": "light"
     },
     "output_type": "display_data"
    },
    {
     "name": "stdout",
     "output_type": "stream",
     "text": [
      "[1, 1]\n",
      "Now the cleaner does: move left\n"
     ]
    },
    {
     "data": {
      "image/png": "[encoded data removed]",
      "text/plain": [
       "<Figure size 432x288 with 1 Axes>"
      ]
     },
     "metadata": {
      "needs_background": "light"
     },
     "output_type": "display_data"
    },
    {
     "name": "stdout",
     "output_type": "stream",
     "text": [
      "[1, 0]\n",
      "Now the cleaner does: move down\n"
     ]
    },
    {
     "data": {
      "image/png": "[encoded data removed]",
      "text/plain": [
       "<Figure size 432x288 with 1 Axes>"
      ]
     },
     "metadata": {
      "needs_background": "light"
     },
     "output_type": "display_data"
    },
    {
     "name": "stdout",
     "output_type": "stream",
     "text": [
      "[2, 0]\n",
      "Now the cleaner does: move right\n"
     ]
    },
    {
     "data": {
      "image/png": "[encoded data removed]",
      "text/plain": [
       "<Figure size 432x288 with 1 Axes>"
      ]
     },
     "metadata": {
      "needs_background": "light"
     },
     "output_type": "display_data"
    },
    {
     "name": "stdout",
     "output_type": "stream",
     "text": [
      "[2, 1]\n",
      "Now the cleaner does: move right\n"
     ]
    },
    {
     "data": {
      "image/png": "[encoded data removed]",
      "text/plain": [
       "<Figure size 432x288 with 1 Axes>"
      ]
     },
     "metadata": {
      "needs_background": "light"
     },
     "output_type": "display_data"
    },
    {
     "name": "stdout",
     "output_type": "stream",
     "text": [
      "[2, 2]\n",
      "Now the cleaner does: clean\n"
     ]
    },
    {
     "data": {
      "image/png": "[encoded data removed]",
      "text/plain": [
       "<Figure size 432x288 with 1 Axes>"
      ]
     },
     "metadata": {
      "needs_background": "light"
     },
     "output_type": "display_data"
    },
    {
     "name": "stdout",
     "output_type": "stream",
     "text": [
      "[2, 2]\n",
      "The matrix is cleaned!\n"
     ]
    },
    {
     "data": {
      "image/png": "[encoded data removed]",
      "text/plain": [
       "<Figure size 432x288 with 1 Axes>"
      ]
     },
     "metadata": {
      "needs_background": "light"
     },
     "output_type": "display_data"
    },
    {
     "name": "stdout",
     "output_type": "stream",
     "text": [
      "[2, 2]\n"
     ]
    }
   ],
   "source": [
    "# Algorithm of program operation\n",
    "#matrix size initialization\n",
    "N = input_N()\n",
    "\n",
    "#matrix creation\n",
    "Matrix = create_matrix(N)\n",
    "\n",
    "#creating on a matrix of dirt\n",
    "Matrix = input_dirt(Matrix)\n",
    "\n",
    "#creation on the matrix, cleaner\n",
    "Matrix = input_cleaner_location(Matrix)\n",
    "\n",
    "#with the action method we get the action and location of the cleaner\n",
    "tmp = action(Matrix)\n",
    "Action = tmp[0]\n",
    "Cleaner = tmp[1]\n",
    "\n",
    "#initialize the flag\n",
    "flag = True\n",
    "\n",
    "# initialize the loop\n",
    "while flag:\n",
    "    \n",
    "#   with the do_action method we get the updated matrix and a flag that shows whether the matrix is clean\n",
    "    tmp2 = do_action(Matrix, Action)\n",
    "    Matrix = tmp2[0]\n",
    "    \n",
    "#   if the matrix is clean\n",
    "    if tmp2[1]:\n",
    "        \n",
    "#       end of the cycle\n",
    "        flag = True\n",
    "    \n",
    "#   otherwise\n",
    "    else:\n",
    "        \n",
    "#       continue the cycle\n",
    "        flag = False\n",
    "    \n",
    "#   from the action method we get the action and location of the cleaner\n",
    "    tmp = action(Matrix)\n",
    "    Action = tmp[0]\n",
    "    Cleaner = tmp[1]\n",
    "    \n",
    "    \n",
    "#End of the program"
   ]
  },
  {
   "cell_type": "code",
   "execution_count": null,
   "id": "38cd923a",
   "metadata": {},
   "outputs": [],
   "source": []
  }
 ],
 "metadata": {
  "kernelspec": {
   "display_name": "Python 3 (ipykernel)",
   "language": "python",
   "name": "python3"
  },
  "language_info": {
   "codemirror_mode": {
    "name": "ipython",
    "version": 3
   },
   "file_extension": ".py",
   "mimetype": "text/x-python",
   "name": "python",
   "nbconvert_exporter": "python",
   "pygments_lexer": "ipython3",
   "version": "3.9.7"
  }
 },
 "nbformat": 4,
 "nbformat_minor": 5
}
