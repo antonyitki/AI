{
 "cells": [
  {
   "cell_type": "code",
   "execution_count": 3,
   "id": "0f9bb7f5",
   "metadata": {},
   "outputs": [],
   "source": [
    "from typing import Generic, TypeVar, Dict, List, Optional\n",
    "from abc import ABC, abstractmethod\n",
    "\n",
    "V = TypeVar('V') # variable type\n",
    "D = TypeVar('D') # domain type\n",
    "# Base class for all constraints\n",
    "class Constraint(Generic[V, D], ABC):\n",
    "    # The variables that the constraint is between\n",
    "    def __init__(self, variables: List[V]) -> None:\n",
    "        self.variables = variables\n",
    "\n",
    "    # Must be overridden by subclasses\n",
    "    @abstractmethod\n",
    "    def satisfied(self, assignment: Dict[V, D]) -> bool:\n",
    "        ...\n",
    "\n",
    "# A constraint satisfaction problem consists of variables of type V\n",
    "# that have ranges of values known as domains of type D and constraints\n",
    "# that determine whether a particular variable's domain selection is valid\n",
    "class CSP(Generic[V, D]):\n",
    "    def __init__(self, variables: List[V], domains: Dict[V, List[D]]) -> None:\n",
    "        self.variables: List[V] = variables # variables to be constrained\n",
    "        self.domains: Dict[V, List[D]] = domains # domain of each variable\n",
    "        self.constraints: Dict[V, List[Constraint[V, D]]] = {}\n",
    "        for variable in self.variables:\n",
    "            self.constraints[variable] = []\n",
    "            if variable not in self.domains:\n",
    "                raise LookupError(\"Every variable should have a domain assigned to it.\")\n",
    "\n",
    "\n",
    "    def add_constraint(self, constraint: Constraint[V, D]) -> None:\n",
    "        for variable in constraint.variables:\n",
    "            if variable not in self.variables:\n",
    "                raise LookupError(\"Variable in constraint not in CSP\")\n",
    "            else:\n",
    "                self.constraints[variable].append(constraint) \n",
    "                \n",
    "                \n",
    "    # Check if the value assignment is consistent by checking all constraints\n",
    "    # for the given variable against it\n",
    "    def consistent(self, variable: V, assignment: Dict[V, D]) -> bool:\n",
    "        for constraint in self.constraints[variable]:\n",
    "            if not constraint.satisfied(assignment):\n",
    "                return False\n",
    "        return True\n"
   ]
  },
  {
   "cell_type": "code",
   "execution_count": 20,
   "id": "9cf22d3d",
   "metadata": {},
   "outputs": [
    {
     "ename": "NameError",
     "evalue": "name 'V' is not defined",
     "output_type": "error",
     "traceback": [
      "\u001b[1;31m---------------------------------------------------------------------------\u001b[0m",
      "\u001b[1;31mNameError\u001b[0m                                 Traceback (most recent call last)",
      "\u001b[1;32m<ipython-input-20-f5fda7480cdc>\u001b[0m in \u001b[0;36m<module>\u001b[1;34m\u001b[0m\n\u001b[1;32m----> 1\u001b[1;33m \u001b[1;32mdef\u001b[0m \u001b[0mbacktracking_search\u001b[0m\u001b[1;33m(\u001b[0m\u001b[0mself\u001b[0m\u001b[1;33m,\u001b[0m \u001b[0massignment\u001b[0m\u001b[1;33m:\u001b[0m \u001b[0mDict\u001b[0m\u001b[1;33m[\u001b[0m\u001b[0mV\u001b[0m\u001b[1;33m,\u001b[0m \u001b[0mD\u001b[0m\u001b[1;33m]\u001b[0m \u001b[1;33m=\u001b[0m \u001b[1;33m{\u001b[0m\u001b[1;33m}\u001b[0m\u001b[1;33m)\u001b[0m \u001b[1;33m->\u001b[0m \u001b[0mOptional\u001b[0m\u001b[1;33m[\u001b[0m\u001b[0mDict\u001b[0m\u001b[1;33m[\u001b[0m\u001b[0mV\u001b[0m\u001b[1;33m,\u001b[0m \u001b[0mD\u001b[0m\u001b[1;33m]\u001b[0m\u001b[1;33m]\u001b[0m\u001b[1;33m:\u001b[0m\u001b[1;33m\u001b[0m\u001b[1;33m\u001b[0m\u001b[0m\n\u001b[0m\u001b[0;32m      2\u001b[0m \u001b[1;31m# assignment is complete if every variable is assigned (our base case)\u001b[0m\u001b[1;33m\u001b[0m\u001b[1;33m\u001b[0m\u001b[1;33m\u001b[0m\u001b[0m\n\u001b[0;32m      3\u001b[0m     \u001b[1;32mif\u001b[0m \u001b[0mlen\u001b[0m\u001b[1;33m(\u001b[0m\u001b[0massignment\u001b[0m\u001b[1;33m)\u001b[0m \u001b[1;33m==\u001b[0m \u001b[0mlen\u001b[0m\u001b[1;33m(\u001b[0m\u001b[0mself\u001b[0m\u001b[1;33m.\u001b[0m\u001b[0mvariables\u001b[0m\u001b[1;33m)\u001b[0m\u001b[1;33m:\u001b[0m\u001b[1;33m\u001b[0m\u001b[1;33m\u001b[0m\u001b[0m\n\u001b[0;32m      4\u001b[0m         \u001b[1;32mreturn\u001b[0m \u001b[0massignment\u001b[0m\u001b[1;33m\u001b[0m\u001b[1;33m\u001b[0m\u001b[0m\n\u001b[0;32m      5\u001b[0m \u001b[1;33m\u001b[0m\u001b[0m\n",
      "\u001b[1;31mNameError\u001b[0m: name 'V' is not defined"
     ]
    }
   ],
   "source": [
    "def backtracking_search(self, assignment: Dict[V, D] = {}) -> Optional[Dict[V, D]]:\n",
    "# assignment is complete if every variable is assigned (our base case)\n",
    "    if len(assignment) == len(self.variables):\n",
    "        return assignment\n",
    "\n",
    "    # get all variables in the CSP but not in the assignment\n",
    "    unassigned: List[V] = [v for v in self.variables if v not in assignment]\n",
    "\n",
    "    # get the every possible domain value of the first unassigned variable\n",
    "    first: V = unassigned[0]\n",
    "    for value in self.domains[first]:\n",
    "        local_assignment = assignment.copy()\n",
    "        local_assignment[first] = value\n",
    "        # if we're still consistent, we recurse (continue)\n",
    "        if self.consistent(first, local_assignment):\n",
    "            result: Optional[Dict[V, D]] = self.backtracking_search(local_assignment)\n",
    "            # if we didn't find the result, we will end up backtracking\n",
    "            if result is not None:\n",
    "                return result\n",
    "    return None\n",
    "\n",
    "    if len(assignment) == len(self.variables):\n",
    "        return assignment \n",
    "\n",
    "    unassigned: List[V] = [v for v in self.variables if v not in assignment]\n",
    "    first: V = unassigned[0]\n",
    "\n",
    "    for value in self.domains[first]:\n",
    "        local_assignment = assignment.copy()\n",
    "        local_assignment[first] = value\n",
    "\n",
    "    if self.consistent(first, local_assignment):\n",
    "        result: Optional[Dict[V, D]] = self.backtracking_search(local_assignment)\n",
    "    if result is not None:\n",
    "        return result\n",
    "\n",
    "    return None # no solution "
   ]
  },
  {
   "cell_type": "code",
   "execution_count": 18,
   "id": "e39e3e7a",
   "metadata": {},
   "outputs": [
    {
     "ename": "NameError",
     "evalue": "name 'Constraint' is not defined",
     "output_type": "error",
     "traceback": [
      "\u001b[1;31m---------------------------------------------------------------------------\u001b[0m",
      "\u001b[1;31mNameError\u001b[0m                                 Traceback (most recent call last)",
      "\u001b[1;32m<ipython-input-18-df6820a00142>\u001b[0m in \u001b[0;36m<module>\u001b[1;34m\u001b[0m\n\u001b[0;32m      1\u001b[0m \u001b[1;31m# from csp import Constraint, CSP\u001b[0m\u001b[1;33m\u001b[0m\u001b[1;33m\u001b[0m\u001b[1;33m\u001b[0m\u001b[0m\n\u001b[0;32m      2\u001b[0m \u001b[1;32mfrom\u001b[0m \u001b[0mtyping\u001b[0m \u001b[1;32mimport\u001b[0m \u001b[0mDict\u001b[0m\u001b[1;33m,\u001b[0m \u001b[0mList\u001b[0m\u001b[1;33m,\u001b[0m \u001b[0mOptional\u001b[0m\u001b[1;33m\u001b[0m\u001b[1;33m\u001b[0m\u001b[0m\n\u001b[1;32m----> 3\u001b[1;33m \u001b[1;32mclass\u001b[0m \u001b[0mMapColoringConstraint\u001b[0m\u001b[1;33m(\u001b[0m\u001b[0mConstraint\u001b[0m\u001b[1;33m[\u001b[0m\u001b[0mstr\u001b[0m\u001b[1;33m,\u001b[0m \u001b[0mstr\u001b[0m\u001b[1;33m]\u001b[0m\u001b[1;33m)\u001b[0m\u001b[1;33m:\u001b[0m\u001b[1;33m\u001b[0m\u001b[1;33m\u001b[0m\u001b[0m\n\u001b[0m\u001b[0;32m      4\u001b[0m     \u001b[1;32mdef\u001b[0m \u001b[0m__init__\u001b[0m\u001b[1;33m(\u001b[0m\u001b[0mself\u001b[0m\u001b[1;33m,\u001b[0m \u001b[0mplace1\u001b[0m\u001b[1;33m:\u001b[0m \u001b[0mstr\u001b[0m\u001b[1;33m,\u001b[0m \u001b[0mplace2\u001b[0m\u001b[1;33m:\u001b[0m \u001b[0mstr\u001b[0m\u001b[1;33m)\u001b[0m \u001b[1;33m->\u001b[0m \u001b[1;32mNone\u001b[0m\u001b[1;33m:\u001b[0m\u001b[1;33m\u001b[0m\u001b[1;33m\u001b[0m\u001b[0m\n\u001b[0;32m      5\u001b[0m         \u001b[0msuper\u001b[0m\u001b[1;33m(\u001b[0m\u001b[1;33m)\u001b[0m\u001b[1;33m.\u001b[0m\u001b[0m__init__\u001b[0m\u001b[1;33m(\u001b[0m\u001b[1;33m[\u001b[0m\u001b[0mplace1\u001b[0m\u001b[1;33m,\u001b[0m \u001b[0mplace2\u001b[0m\u001b[1;33m]\u001b[0m\u001b[1;33m)\u001b[0m\u001b[1;33m\u001b[0m\u001b[1;33m\u001b[0m\u001b[0m\n",
      "\u001b[1;31mNameError\u001b[0m: name 'Constraint' is not defined"
     ]
    }
   ],
   "source": [
    "# from csp import Constraint, CSP\n",
    "from typing import Dict, List, Optional\n",
    "class MapColoringConstraint(Constraint[str, str]):\n",
    "    def __init__(self, place1: str, place2: str) -> None:\n",
    "        super().__init__([place1, place2])\n",
    "        self.place1: str = place1\n",
    "        self.place2: str = place2\n",
    "\n",
    "    def satisfied(self, assignment: Dict[str, str]) -> bool:\n",
    "        # If either place is not in the assignment then it is not\n",
    "        # yet possible for their colors to be conflicting\n",
    "        if self.place1 not in assignment or self.place2 not in assignment:\n",
    "            return True\n",
    "        # check the color assigned to place1 is not the same as the\n",
    "        # color assigned to place2\n",
    "        return assignment[self.place1] != assignment[self.place2]\n",
    "    \n",
    "    \n",
    "        if __name__ == \"__main__\":\n",
    "            variables: List[str] = [\"Western Australia\", \"Northern Territory\", \"South Australia\",\n",
    "                                    \"Queensland\", \"New South Wales\", \"Victoria\", \"Tasmania\"]\n",
    "            domains: Dict[str, List[str]] = {}\n",
    "            for variable in variables:\n",
    "                domains[variable] = [\"red\", \"green\", \"blue\"]\n",
    "            csp: CSP[str, str] = CSP(variables, domains)\n",
    "            csp.add_constraint(MapColoringConstraint(\"Western Australia\", \"Northern Territory\"))\n",
    "            csp.add_constraint(MapColoringConstraint(\"Western Australia\", \"South Australia\"))\n",
    "            csp.add_constraint(MapColoringConstraint(\"South Australia\", \"Northern Territory\"))\n",
    "            csp.add_constraint(MapColoringConstraint(\"Queensland\", \"Northern Territory\"))\n",
    "            csp.add_constraint(MapColoringConstraint(\"Queensland\", \"South Australia\"))\n",
    "            csp.add_constraint(MapColoringConstraint(\"Queensland\", \"New South Wales\"))\n",
    "            csp.add_constraint(MapColoringConstraint(\"New South Wales\", \"South Australia\"))\n",
    "            csp.add_constraint(MapColoringConstraint(\"Victoria\", \"South Australia\"))\n",
    "            csp.add_constraint(MapColoringConstraint(\"Victoria\", \"New South Wales\"))\n",
    "            csp.add_constraint(MapColoringConstraint(\"Victoria\", \"Tasmania\"))\n",
    "            \n",
    "\n",
    "solution: Optional[Dict[str, str]] = csp.backtracking_search()\n",
    "if solution is None:\n",
    "    print(\"No solution found!\")\n",
    "else:\n",
    "    print(solution)            "
   ]
  },
  {
   "cell_type": "code",
   "execution_count": 19,
   "id": "77b8f781",
   "metadata": {},
   "outputs": [
    {
     "data": {
      "text/plain": [
       "{'Western Australia': 'red',\n",
       " 'Northern Territory': 'green',\n",
       " 'South Australia': 'blue',\n",
       " 'Queensland': 'red',\n",
       " 'New South Wales': 'green',\n",
       " 'Victoria': 'red',\n",
       " 'Tasmania': 'green'}"
      ]
     },
     "execution_count": 19,
     "metadata": {},
     "output_type": "execute_result"
    }
   ],
   "source": [
    "{'Western Australia': 'red', 'Northern Territory': 'green', 'South Australia': 'blue', 'Queensland':\n",
    "'red', 'New South Wales': 'green', 'Victoria': 'red', 'Tasmania': 'green'}"
   ]
  },
  {
   "cell_type": "code",
   "execution_count": 2,
   "id": "b8b7ef50",
   "metadata": {},
   "outputs": [
    {
     "ename": "ModuleNotFoundError",
     "evalue": "No module named 'simpleai'",
     "output_type": "error",
     "traceback": [
      "\u001b[1;31m---------------------------------------------------------------------------\u001b[0m",
      "\u001b[1;31mModuleNotFoundError\u001b[0m                       Traceback (most recent call last)",
      "\u001b[1;32m<ipython-input-2-e47146cd5939>\u001b[0m in \u001b[0;36m<module>\u001b[1;34m\u001b[0m\n\u001b[1;32m----> 1\u001b[1;33m \u001b[1;32mfrom\u001b[0m \u001b[0msimpleai\u001b[0m\u001b[1;33m.\u001b[0m\u001b[0msearch\u001b[0m \u001b[1;32mimport\u001b[0m \u001b[0mCspProblem\u001b[0m\u001b[1;33m\u001b[0m\u001b[1;33m\u001b[0m\u001b[0m\n\u001b[0m\u001b[0;32m      2\u001b[0m \u001b[1;33m\u001b[0m\u001b[0m\n\u001b[0;32m      3\u001b[0m \u001b[0mvariables\u001b[0m \u001b[1;33m=\u001b[0m \u001b[1;33m(\u001b[0m\u001b[1;34m'A'\u001b[0m\u001b[1;33m,\u001b[0m \u001b[1;34m'B'\u001b[0m\u001b[1;33m,\u001b[0m \u001b[1;34m'C'\u001b[0m\u001b[1;33m)\u001b[0m\u001b[1;33m\u001b[0m\u001b[1;33m\u001b[0m\u001b[0m\n\u001b[0;32m      4\u001b[0m \u001b[1;33m\u001b[0m\u001b[0m\n\u001b[0;32m      5\u001b[0m domains = {\n",
      "\u001b[1;31mModuleNotFoundError\u001b[0m: No module named 'simpleai'"
     ]
    }
   ],
   "source": [
    "from simpleai.search import CspProblem\n",
    "\n",
    "variables = ('A', 'B', 'C')\n",
    "\n",
    "domains = {\n",
    "    'A': [1, 2, 3],\n",
    "    'B': [1, 3],\n",
    "    'C': [1, 2],\n",
    "}\n",
    "\n",
    "# a constraint that expects different variables to have different values\n",
    "def const_different(variables, values):\n",
    "    return len(values) == len(set(values))  # remove repeated values and count\n",
    "\n",
    "# a constraint that expects one variable to be bigger than other\n",
    "def const_one_bigger_other(variables, values):\n",
    "    return values[0] > values[1]\n",
    "\n",
    "# a constraint thet expects two variables to be one odd and the other even,\n",
    "# no matter which one is which type\n",
    "def const_one_odd_one_even(variables, values):\n",
    "    if values[0] % 2 == 0:\n",
    "        return values[1] % 2 == 1  # first even, expect second to be odd\n",
    "    else:\n",
    "        return values[1] % 2 == 0  # first odd, expect second to be even\n",
    "\n",
    "constraints = [\n",
    "    (('A', 'B', 'C'), const_different),\n",
    "    (('A', 'C'), const_one_bigger_other),\n",
    "    (('A', 'C'), const_one_odd_one_even),\n",
    "]\n",
    "\n",
    "my_problem = CspProblem(variables, domains, constraints)\n",
    "\n",
    "\n",
    "\n",
    "from simpleai.search import backtrack\n",
    "\n",
    "# my_problem = ... (steps from the previous section)\n",
    "\n",
    "result = backtrack(my_problem)"
   ]
  },
  {
   "cell_type": "code",
   "execution_count": 3,
   "id": "a15fa040",
   "metadata": {},
   "outputs": [
    {
     "name": "stdout",
     "output_type": "stream",
     "text": [
      "{'A': [2, 3], 'B': [1, 2], 'C': [1, 2]}\n"
     ]
    }
   ],
   "source": [
    "domains = {\n",
    "    'A': [1, 2, 3],\n",
    "    'B': [1, 2, 3],\n",
    "    'C': [1, 2, 3]\n",
    "}\n",
    "\n",
    "constraints = {\n",
    "    ('A', 'B'): lambda a, b: a > b,\n",
    "    ('B', 'A'): lambda b, a: b < a,\n",
    "    ('B', 'C'): lambda b, c: b == c,\n",
    "    ('C', 'B'): lambda c, b: c == b,\n",
    "}\n",
    "\n",
    "\n",
    "def revise(x, y):\n",
    "    \"\"\"\n",
    "    Make variable `x` arc consistent with variable `y`.\n",
    "    To do so, remove values from `domains[x]` for which there is no\n",
    "    possible corresponding value for `y` in `domains[y]`.\n",
    "\n",
    "    Return True if a revision was made to the domain of `x`; return\n",
    "    False if no revision was made.\n",
    "    \"\"\"\n",
    "    revised = False\n",
    "\n",
    "    # Get x and y domains\n",
    "    x_domain = domains[x]\n",
    "    y_domain = domains[y]\n",
    "\n",
    "    # Get all arc (x, y) constraints\n",
    "    all_constraints = [\n",
    "        constraint for constraint in constraints if constraint[0] == x and constraint[1] == y]\n",
    "\n",
    "    for x_value in x_domain:\n",
    "        satisfies = False\n",
    "        for y_value in y_domain:\n",
    "            for constraint in all_constraints:\n",
    "                constraint_func = constraints[constraint]\n",
    "                if constraint_func(x_value, y_value):\n",
    "                    satisfies = True\n",
    "        if not satisfies:\n",
    "            x_domain.remove(x_value)\n",
    "            revised = True\n",
    "\n",
    "    return revised\n",
    "\n",
    "\n",
    "def ac3(arcs):\n",
    "    \"\"\"\n",
    "    Update `domains` such that each variable is arc consistent.\n",
    "    \"\"\"\n",
    "    # Add all the arcs to a queue.\n",
    "    queue = arcs[:]\n",
    "\n",
    "    # Repeat until the queue is empty\n",
    "    while queue:\n",
    "        # Take the first arc off the queue (dequeue)\n",
    "        (x, y) = queue.pop(0)\n",
    "\n",
    "        # Make x arc consistent with y\n",
    "        revised = revise(x, y)\n",
    "\n",
    "        # If the x domain has changed\n",
    "        if revised:\n",
    "            # Add all arcs of the form (k, x) to the queue (enqueue)\n",
    "            neighbors = [neighbor for neighbor in arcs if neighbor[1] == x]\n",
    "            queue = queue + neighbors\n",
    "\n",
    "\n",
    "arcs = [('A', 'B'), ('B', 'A'), ('B', 'C'), ('C', 'B')]\n",
    "\n",
    "ac3(arcs)\n",
    "\n",
    "print(domains) # {'A': [2, 3], 'C': [1, 2], 'B': [1, 2]}"
   ]
  },
  {
   "cell_type": "code",
   "execution_count": 1,
   "id": "cc807522",
   "metadata": {},
   "outputs": [
    {
     "ename": "ModuleNotFoundError",
     "evalue": "No module named 'constraint'",
     "output_type": "error",
     "traceback": [
      "\u001b[1;31m---------------------------------------------------------------------------\u001b[0m",
      "\u001b[1;31mModuleNotFoundError\u001b[0m                       Traceback (most recent call last)",
      "\u001b[1;32m<ipython-input-1-06e61b052a84>\u001b[0m in \u001b[0;36m<module>\u001b[1;34m\u001b[0m\n\u001b[1;32m----> 1\u001b[1;33m \u001b[1;32mimport\u001b[0m \u001b[0mconstraint\u001b[0m\u001b[1;33m\u001b[0m\u001b[1;33m\u001b[0m\u001b[0m\n\u001b[0m\u001b[0;32m      2\u001b[0m \u001b[1;33m\u001b[0m\u001b[0m\n\u001b[0;32m      3\u001b[0m \u001b[0mproblem\u001b[0m \u001b[1;33m=\u001b[0m \u001b[0mconstraint\u001b[0m\u001b[1;33m.\u001b[0m\u001b[0mProblem\u001b[0m\u001b[1;33m(\u001b[0m\u001b[1;33m)\u001b[0m\u001b[1;33m\u001b[0m\u001b[1;33m\u001b[0m\u001b[0m\n\u001b[0;32m      4\u001b[0m \u001b[1;33m\u001b[0m\u001b[0m\n\u001b[0;32m      5\u001b[0m \u001b[0mproblem\u001b[0m\u001b[1;33m.\u001b[0m\u001b[0maddVariable\u001b[0m\u001b[1;33m(\u001b[0m\u001b[1;34m'x'\u001b[0m\u001b[1;33m,\u001b[0m \u001b[1;33m[\u001b[0m\u001b[1;36m1\u001b[0m\u001b[1;33m,\u001b[0m\u001b[1;36m2\u001b[0m\u001b[1;33m,\u001b[0m\u001b[1;36m3\u001b[0m\u001b[1;33m]\u001b[0m\u001b[1;33m)\u001b[0m\u001b[1;33m\u001b[0m\u001b[1;33m\u001b[0m\u001b[0m\n",
      "\u001b[1;31mModuleNotFoundError\u001b[0m: No module named 'constraint'"
     ]
    }
   ],
   "source": [
    "import constraint\n",
    "\n",
    "problem = constraint.Problem()\n",
    "\n",
    "problem.addVariable('x', [1,2,3])\n",
    "problem.addVariable('y', range(10))\n",
    "\n",
    "def our_constraint(x, y):\n",
    "    if x + y >= 5:\n",
    "        return True\n",
    "\n",
    "problem.addConstraint(our_constraint, ['x','y'])\n",
    "\n",
    "solutions = problem.getSolutions()\n",
    "\n",
    "# Easier way to print and see all solutions\n",
    "# for solution in solutions:\n",
    "#    print(solution)\n",
    "\n",
    "# Prettier way to print and see all solutions\n",
    "length = len(solutions)\n",
    "print(\"(x,y) ∈ {\", end=\"\")\n",
    "for index, solution in enumerate(solutions):\n",
    "    if index == length - 1:\n",
    "        print(\"({},{})\".format(solution['x'], solution['y']), end=\"\")\n",
    "    else:\n",
    "        print(\"({},{}),\".format(solution['x'], solution['y']), end=\"\")\n",
    "print(\"}\")"
   ]
  },
  {
   "cell_type": "code",
   "execution_count": 2,
   "id": "15ddf542",
   "metadata": {},
   "outputs": [
    {
     "name": "stdout",
     "output_type": "stream",
     "text": [
      "\n",
      "Note: you may need to restart the kernel to use updated packages.\n"
     ]
    },
    {
     "name": "stderr",
     "output_type": "stream",
     "text": [
      "\n",
      "EnvironmentLocationNotFound: Not a conda environment: C:\\Program\n",
      "\n"
     ]
    }
   ],
   "source": [
    "conda install constraint"
   ]
  },
  {
   "cell_type": "code",
   "execution_count": null,
   "id": "cafe248c",
   "metadata": {},
   "outputs": [],
   "source": []
  }
 ],
 "metadata": {
  "kernelspec": {
   "display_name": "Python 3",
   "language": "python",
   "name": "python3"
  },
  "language_info": {
   "codemirror_mode": {
    "name": "ipython",
    "version": 3
   },
   "file_extension": ".py",
   "mimetype": "text/x-python",
   "name": "python",
   "nbconvert_exporter": "python",
   "pygments_lexer": "ipython3",
   "version": "3.8.8"
  }
 },
 "nbformat": 4,
 "nbformat_minor": 5
}
