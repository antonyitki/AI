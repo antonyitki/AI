{
 "cells": [
  {
   "cell_type": "code",
   "execution_count": 1,
   "id": "47ca672f",
   "metadata": {},
   "outputs": [],
   "source": [
    "# Connecting libraries\n",
    "\n",
    "import pandas as pd\n",
    "import numpy as np\n",
    "import seaborn as sns\n",
    "import matplotlib.pyplot as plt\n",
    "import re"
   ]
  },
  {
   "cell_type": "code",
   "execution_count": 2,
   "id": "8ef43b7d",
   "metadata": {},
   "outputs": [],
   "source": [
    "# Variable declaration\n",
    "\n",
    "N = 0\n",
    "Matrix = []\n",
    "Cleaner = [0,0]\n",
    "Actions = [\"move up\", \"move down\", \"move left\", \"move right\", \"clean\"] #row_sub[0], row_add[1], col_sub[2], col_add[3]\n",
    "Action = 0"
   ]
  },
  {
   "cell_type": "code",
   "execution_count": 3,
   "id": "c8e64bf6",
   "metadata": {},
   "outputs": [],
   "source": [
    "# Matrix visualization\n",
    "\n",
    "def show_heatmap(arr):\n",
    "    sns.heatmap(arr, vmin=0, vmax=3, annot=False, cbar = False, linewidths=2, linecolor='black', cmap=\"Blues\") \n",
    "    plt.show()"
   ]
  },
  {
   "cell_type": "code",
   "execution_count": 4,
   "id": "c605a23f",
   "metadata": {},
   "outputs": [],
   "source": [
    "# Input rank matrix\n",
    "\n",
    "def input_N():\n",
    "    flag = True\n",
    "    while flag:\n",
    "        tmp = input(\"Please enter the size of the matrix \\n(You can only enter 3, 4 or 5):\\n\")\n",
    "        rezult_input = re.match(\"^\\d+$\", tmp)\n",
    "        if rezult_input is not None:\n",
    "            if int(rezult_input.group(0)) != 0 and int(rezult_input.group(0)) != 1 and int(rezult_input.group(0)) != 2:\n",
    "                flag = False\n",
    "            else:\n",
    "                print(\"You have entered an incorrect value \\nPlease try again\")\n",
    "        else:\n",
    "            print(\"You have entered an incorrect value \\nPlease try again\")        \n",
    "    return int(tmp)"
   ]
  },
  {
   "cell_type": "code",
   "execution_count": 5,
   "id": "84f7f20d",
   "metadata": {},
   "outputs": [],
   "source": [
    "# Сreate matrix\n",
    "\n",
    "def create_matrix(size):\n",
    "    matrix_create = np.arange(size**2).reshape((size,size)) * 0\n",
    "    return matrix_create"
   ]
  },
  {
   "cell_type": "code",
   "execution_count": 6,
   "id": "6fe4f37d",
   "metadata": {},
   "outputs": [],
   "source": [
    "# User address template\n",
    "\n",
    "def print_enter(str):\n",
    "    tmp1 = \"Now you must enter the location of the \"\n",
    "    tmp2 = \" \\nThis is an input template: [row,column]\"\n",
    "    tmp3 = \"\\n'row' is a number that indicates the location of the cell in rows\"\n",
    "    tmp4 = \"\\n'column' is a number that indicates the location of the cell in columns\"\n",
    "    tmp5 = \"\\nPlease look at the picture carefully before entering\"\n",
    "    tmp6 = \"\\nThe numbers to the left of the matrix indicate the numbering of the rows\"\n",
    "    tmp7 = \"\\nThe numbers at the bottom of the matrix indicate the numbering of the columns\"\n",
    "    tmp8 = \"\\nGood luck!\"\n",
    "    rez_str = tmp1 + str + tmp2 + tmp3 + tmp4 + tmp5 + tmp6 + tmp7 + tmp8\n",
    "    return rez_str"
   ]
  },
  {
   "cell_type": "code",
   "execution_count": 7,
   "id": "7537df02",
   "metadata": {},
   "outputs": [],
   "source": [
    "# Input cleaner's location\n",
    "\n",
    "def input_cleaner_location(matrix):\n",
    "    flag = True\n",
    "    print(print_enter(\"cleaner\"))\n",
    "    \n",
    "    while flag:\n",
    "        location = input_row_col(\"cleaner\")\n",
    "            \n",
    "        if location[0] < len(matrix) and location[1] < len(matrix):\n",
    "            flag = False\n",
    "            if matrix[location[0], location[1]] == 3:\n",
    "                matrix[location[0], location[1]] = 2\n",
    "            elif matrix[location[0], location[1]] == 0:\n",
    "                matrix[location[0], location[1]] = 1\n",
    "            else:\n",
    "                print(\"Error! \\nSomething wrong! \\nRestart the program\")\n",
    "        else:\n",
    "            print(\"You have entered an incorrect value \\nPlease try again\")\n",
    "    show_heatmap(matrix)\n",
    "    return matrix"
   ]
  },
  {
   "cell_type": "code",
   "execution_count": 8,
   "id": "4c56a949",
   "metadata": {},
   "outputs": [],
   "source": [
    "# Enter rows columns for a cell\n",
    "\n",
    "def input_row_col(str1):\n",
    "    location = [0, 0]\n",
    "    tmp_str = \"Please enter the location of the \" + str(str1) + \"\\n(Example: [0,1])\\n\"\n",
    "    tmp1 = input(tmp_str)\n",
    "    tmp_row = re.match('^\\[\\d+', tmp1).group(0)\n",
    "    tmp_col = re.search('\\d+\\]$', tmp1).group(0)\n",
    "\n",
    "    if tmp_row is not None and tmp_col is not None:        \n",
    "        reg_row = re.search('\\d+$', re.match('^\\[\\d+', tmp1).group(0))\n",
    "        reg_col = re.match('^\\d+', re.search('\\d+\\]$', tmp1).group(0))\n",
    "\n",
    "        if reg_row is not None and reg_col is not None:\n",
    "            location[0] = int(reg_row.group(0))\n",
    "            location[1] = int(reg_col.group(0))\n",
    "        else:\n",
    "            print(\"You have entered an incorrect value \\nPlease try again\")\n",
    "    else:\n",
    "        print(\"You have entered an incorrect value \\nPlease try again\")\n",
    "    return location"
   ]
  },
  {
   "cell_type": "code",
   "execution_count": 9,
   "id": "f924b27e",
   "metadata": {},
   "outputs": [],
   "source": [
    "# Adding a dirt\n",
    "\n",
    "def add_more_dirt(flag_add):\n",
    "    flag_yn = True\n",
    "    while flag_yn:   \n",
    "        tmp2 = input(\"Would you like to add more dirt?\" + \n",
    "                 \"\\nEnter y if you want to add\" + \n",
    "                 \"\\nEnter n if you don't want to add\\n\")\n",
    "        reg_yes = re.match('^y$', tmp2)\n",
    "        reg_no = re.match('^n$', tmp2)\n",
    "\n",
    "        if reg_yes is not None:\n",
    "            flag_yn = False\n",
    "            flag_add = True\n",
    "        elif reg_no is not None:\n",
    "            flag_yn = False\n",
    "            flag_add = False\n",
    "        else:\n",
    "            flag_yn = True\n",
    "            print(\"You have entered an incorrect value \\nPlease try again\")\n",
    "    return flag_add"
   ]
  },
  {
   "cell_type": "code",
   "execution_count": 10,
   "id": "81b42a42",
   "metadata": {},
   "outputs": [],
   "source": [
    "# Enter a dirt\n",
    "\n",
    "def input_dirt(matrix):\n",
    "    show_heatmap(matrix)\n",
    "    flag_add = True\n",
    "    print(print_enter(\"dirt\"))\n",
    "    \n",
    "    while flag_add:\n",
    "        location = input_row_col(\"dirt\")\n",
    "        \n",
    "        if location[0] < len(matrix) and location[1] < len(matrix):\n",
    "            matrix[location[0], location[1]] = 3\n",
    "\n",
    "            flag_add = add_more_dirt(flag_add)\n",
    "        else:\n",
    "            print(\"You have entered an incorrect value \\nPlease try again\")\n",
    "\n",
    "    show_heatmap(matrix)\n",
    "    return matrix"
   ]
  },
  {
   "cell_type": "code",
   "execution_count": 11,
   "id": "bf004c03",
   "metadata": {},
   "outputs": [],
   "source": [
    "# Search for a cleaner in a matrix\n",
    "\n",
    "def action_location_cleaner(matrix):\n",
    "    location_cleaner = [-1,-1]\n",
    "    tmp = np.where(matrix == 2)[0]\n",
    "    row = -1\n",
    "    col = -1\n",
    "    if tmp.size == 0:\n",
    "        tmp = np.where(matrix == 1)[0]\n",
    "        if tmp.size == 0:\n",
    "            print(\"Error! \\nSomething wrong! \\nRestart the program\")\n",
    "        else:\n",
    "            row = int(np.where(matrix == 1)[0])\n",
    "            col = int(np.where(matrix == 1)[1])\n",
    "    else:\n",
    "        row = int(np.where(matrix == 2)[0])\n",
    "        col = int(np.where(matrix == 2)[1])\n",
    "    location_cleaner = [row,col]\n",
    "    print(location_cleaner)\n",
    "    return location_cleaner"
   ]
  },
  {
   "cell_type": "code",
   "execution_count": 12,
   "id": "fac889d5",
   "metadata": {},
   "outputs": [],
   "source": [
    "# Search for a dirt in a matrix\n",
    "\n",
    "def action_dirt_search(matrix, location_cleaner):\n",
    "    action_new = -1    \n",
    "    action_mass = [0, 0, 0, 0]  #row_add[1], col_add[3], col_sub[2], row_sub[0] \n",
    "    \n",
    "    if location_cleaner[0] != 0:\n",
    "        if matrix[(location_cleaner[0] - 1), location_cleaner[1]] == 3:\n",
    "            action_new = 0\n",
    "\n",
    "    if location_cleaner[0] != (len(matrix) - 1):\n",
    "        if matrix[(location_cleaner[0] + 1), location_cleaner[1]] == 3:\n",
    "            action_mass[1] = 2\n",
    "\n",
    "    if location_cleaner[1] != 0:\n",
    "        if matrix[location_cleaner[0], (location_cleaner[1] - 1)] == 3:\n",
    "            action_mass[2] = 2\n",
    "\n",
    "    if location_cleaner[1] != (len(matrix) - 1):\n",
    "        if matrix[location_cleaner[0], (location_cleaner[1] + 1)] == 3:\n",
    "            action_mass[3] = 2\n",
    "    \n",
    "    if action_new == -1:\n",
    "        count = 0\n",
    "        for i in action_mass:\n",
    "            if i == 2:\n",
    "                action_new = count\n",
    "            count = count + 1\n",
    "    \n",
    "    return action_new"
   ]
  },
  {
   "cell_type": "code",
   "execution_count": 13,
   "id": "145891a0",
   "metadata": {},
   "outputs": [],
   "source": [
    "# Assign a new action\n",
    "\n",
    "def action_new_action(matrix, location_cleaner):\n",
    "    action_new = -1\n",
    "    \n",
    "    if location_cleaner[0] % 2 == 0 and location_cleaner[1] != len(matrix) - 1:\n",
    "        action_new = 3\n",
    "    elif location_cleaner[0] % 2 == 1 and location_cleaner[1] != 0:\n",
    "        action_new = 2\n",
    "    elif location_cleaner[1] == len(matrix) - 1:\n",
    "        if location_cleaner[0] == len(matrix) - 1:\n",
    "            action_new = 0\n",
    "        elif location_cleaner[0] % 2 == 0:\n",
    "            action_new = 1\n",
    "    elif location_cleaner[1] == 0:\n",
    "        if location_cleaner[0] == len(matrix) - 1:\n",
    "            action_new = 0\n",
    "        elif location_cleaner[0] % 2 == 1:\n",
    "            action_new = 1\n",
    "\n",
    "    if action_new == (-1):\n",
    "        print(\"Error! \\nSomething wrong! \\nRestart the program\")\n",
    "    return action_new"
   ]
  },
  {
   "cell_type": "code",
   "execution_count": 14,
   "id": "eaaf435c",
   "metadata": {},
   "outputs": [],
   "source": [
    "# The main method of action\n",
    "\n",
    "def action(matrix):\n",
    "    location_cleaner = action_location_cleaner(matrix)\n",
    "    if location_cleaner[0] != -1 and location_cleaner[1] != -1:\n",
    "        Cleaner = [location_cleaner[0], location_cleaner[1]] ###########\n",
    "        \n",
    "        if matrix[location_cleaner[0], location_cleaner[1]] == 2:\n",
    "            action_new = 4\n",
    "        else: \n",
    "            action_new = action_dirt_search(matrix, location_cleaner)\n",
    "            \n",
    "            if action_new == (-1):\n",
    "                action_new = action_new_action(matrix, location_cleaner)\n",
    "    else:\n",
    "        print(\"Error! \\nSomething wrong! \\nRestart the program\")\n",
    "    return [action_new, location_cleaner]"
   ]
  },
  {
   "cell_type": "code",
   "execution_count": 15,
   "id": "3441d1b4",
   "metadata": {},
   "outputs": [],
   "source": [
    "# Check the matrix on dirt\n",
    "\n",
    "def check_matrix_to_dirt(matrix):\n",
    "    flag = True\n",
    "    tmp1 = np.where(matrix == 2)[0]\n",
    "    tmp2 = np.where(matrix == 3)[0]\n",
    "    if tmp1.size == 0 and tmp2.size == 0:\n",
    "        flag = False\n",
    "    return flag"
   ]
  },
  {
   "cell_type": "code",
   "execution_count": 16,
   "id": "52aafc00",
   "metadata": {},
   "outputs": [],
   "source": [
    "# Performing an action\n",
    "\n",
    "def do_action(matrix, action):\n",
    "    flag = check_matrix_to_dirt(matrix)\n",
    "    if flag:\n",
    "        print(\"Now the cleaner does: \" + Actions[action]) #\"move up\", \"move down\", \"move left\", \"move right\", \"clean\"\n",
    "        if action == 4:\n",
    "            matrix[Cleaner[0], Cleaner[1]] = 1\n",
    "        elif action == 0 and len(matrix) % 2 == 1 and Cleaner[0] == len(matrix) - 1 and Cleaner[1] == len(matrix) - 1:\n",
    "            matrix[Cleaner[0], Cleaner[1]] = 0\n",
    "            if matrix[0,0] == 3:\n",
    "                matrix[0,0] = 2\n",
    "            else:\n",
    "                matrix[0,0] = 1\n",
    "        elif action == 0 and len(matrix) % 2 == 0 and Cleaner[0] == len(matrix) - 1 and Cleaner[1] == 0:\n",
    "            matrix[Cleaner[0], Cleaner[1]] = 0\n",
    "            if matrix[0,0] == 3:\n",
    "                matrix[0,0] = 2\n",
    "            else:\n",
    "                matrix[0,0] = 1\n",
    "        elif action == 0:\n",
    "            matrix[Cleaner[0], Cleaner[1]] = 0\n",
    "            if matrix[Cleaner[0] - 1, Cleaner[1]] == 3:\n",
    "                matrix[Cleaner[0] - 1, Cleaner[1]] = 2\n",
    "            else:\n",
    "                matrix[Cleaner[0] - 1, Cleaner[1]] = 1\n",
    "        elif action == 1:\n",
    "            matrix[Cleaner[0], Cleaner[1]] = 0\n",
    "            if matrix[Cleaner[0] + 1, Cleaner[1]] == 3:\n",
    "                matrix[Cleaner[0] + 1, Cleaner[1]] = 2\n",
    "            else:\n",
    "                matrix[Cleaner[0] + 1, Cleaner[1]] = 1\n",
    "        elif action == 2:\n",
    "            matrix[Cleaner[0], Cleaner[1]] = 0\n",
    "            if matrix[Cleaner[0], Cleaner[1] - 1] == 3:\n",
    "                matrix[Cleaner[0], Cleaner[1] - 1] = 2\n",
    "            else:\n",
    "                matrix[Cleaner[0], Cleaner[1] - 1] = 1\n",
    "        elif action == 3:\n",
    "            matrix[Cleaner[0], Cleaner[1]] = 0\n",
    "            if matrix[Cleaner[0], Cleaner[1] + 1] == 3:\n",
    "                matrix[Cleaner[0], Cleaner[1] + 1] = 2\n",
    "            else:\n",
    "                matrix[Cleaner[0], Cleaner[1] + 1] = 1\n",
    "        else:\n",
    "            print(\"Error! \\nSomething wrong! \\nRestart the program\")\n",
    "    else:\n",
    "        print(\"The matrix is cleaned!\")\n",
    "    show_heatmap(matrix)\n",
    "    return [matrix, flag]"
   ]
  },
  {
   "cell_type": "code",
   "execution_count": 17,
   "id": "cddeb1d9",
   "metadata": {},
   "outputs": [
    {
     "name": "stdout",
     "output_type": "stream",
     "text": [
      "Please enter the size of the matrix \n",
      "(You can only enter 3, 4 or 5):\n",
      "5\n"
     ]
    },
    {
     "data": {
      "image/png": "[encoded data removed]",
      "text/plain": [
       "<Figure size 432x288 with 1 Axes>"
      ]
     },
     "metadata": {
      "needs_background": "light"
     },
     "output_type": "display_data"
    },
    {
     "name": "stdout",
     "output_type": "stream",
     "text": [
      "Now you must enter the location of the dirt \n",
      "This is an input template: [row,column]\n",
      "'row' is a number that indicates the location of the cell in rows\n",
      "'column' is a number that indicates the location of the cell in columns\n",
      "Please look at the picture carefully before entering\n",
      "The numbers to the left of the matrix indicate the numbering of the rows\n",
      "The numbers at the bottom of the matrix indicate the numbering of the columns\n",
      "Good luck!\n",
      "Please enter the location of the dirt\n",
      "(Example: [0,1])\n",
      "[5,6]\n",
      "You have entered an incorrect value \n",
      "Please try again\n",
      "Please enter the location of the dirt\n",
      "(Example: [0,1])\n",
      "[3,3]\n",
      "Would you like to add more dirt?\n",
      "Enter y if you want to add\n",
      "Enter n if you don't want to add\n",
      "y\n",
      "Please enter the location of the dirt\n",
      "(Example: [0,1])\n",
      "[1,0]\n",
      "Would you like to add more dirt?\n",
      "Enter y if you want to add\n",
      "Enter n if you don't want to add\n",
      "n\n"
     ]
    },
    {
     "data": {
      "image/png": "[encoded data removed]",
      "text/plain": [
       "<Figure size 432x288 with 1 Axes>"
      ]
     },
     "metadata": {
      "needs_background": "light"
     },
     "output_type": "display_data"
    },
    {
     "name": "stdout",
     "output_type": "stream",
     "text": [
      "Now you must enter the location of the cleaner \n",
      "This is an input template: [row,column]\n",
      "'row' is a number that indicates the location of the cell in rows\n",
      "'column' is a number that indicates the location of the cell in columns\n",
      "Please look at the picture carefully before entering\n",
      "The numbers to the left of the matrix indicate the numbering of the rows\n",
      "The numbers at the bottom of the matrix indicate the numbering of the columns\n",
      "Good luck!\n",
      "Please enter the location of the cleaner\n",
      "(Example: [0,1])\n",
      "[3,1]\n"
     ]
    },
    {
     "data": {
      "image/png": "[encoded data removed]",
      "text/plain": [
       "<Figure size 432x288 with 1 Axes>"
      ]
     },
     "metadata": {
      "needs_background": "light"
     },
     "output_type": "display_data"
    },
    {
     "name": "stdout",
     "output_type": "stream",
     "text": [
      "[3, 1]\n",
      "Now the cleaner does: move left\n"
     ]
    },
    {
     "data": {
      "image/png": "[encoded data removed]",
      "text/plain": [
       "<Figure size 432x288 with 1 Axes>"
      ]
     },
     "metadata": {
      "needs_background": "light"
     },
     "output_type": "display_data"
    },
    {
     "name": "stdout",
     "output_type": "stream",
     "text": [
      "[3, 0]\n",
      "Now the cleaner does: move down\n"
     ]
    },
    {
     "data": {
      "image/png": "[encoded data removed]",
      "text/plain": [
       "<Figure size 432x288 with 1 Axes>"
      ]
     },
     "metadata": {
      "needs_background": "light"
     },
     "output_type": "display_data"
    },
    {
     "name": "stdout",
     "output_type": "stream",
     "text": [
      "[4, 0]\n",
      "Now the cleaner does: move right\n"
     ]
    },
    {
     "data": {
      "image/png": "[encoded data removed]",
      "text/plain": [
       "<Figure size 432x288 with 1 Axes>"
      ]
     },
     "metadata": {
      "needs_background": "light"
     },
     "output_type": "display_data"
    },
    {
     "name": "stdout",
     "output_type": "stream",
     "text": [
      "[4, 1]\n",
      "Now the cleaner does: move right\n"
     ]
    },
    {
     "data": {
      "image/png": "[encoded data removed]",
      "text/plain": [
       "<Figure size 432x288 with 1 Axes>"
      ]
     },
     "metadata": {
      "needs_background": "light"
     },
     "output_type": "display_data"
    },
    {
     "name": "stdout",
     "output_type": "stream",
     "text": [
      "[4, 2]\n",
      "Now the cleaner does: move right\n"
     ]
    },
    {
     "data": {
      "image/png": "[encoded data removed]",
      "text/plain": [
       "<Figure size 432x288 with 1 Axes>"
      ]
     },
     "metadata": {
      "needs_background": "light"
     },
     "output_type": "display_data"
    },
    {
     "name": "stdout",
     "output_type": "stream",
     "text": [
      "[4, 3]\n",
      "Now the cleaner does: move up\n"
     ]
    },
    {
     "data": {
      "image/png": "[encoded data removed]",
      "text/plain": [
       "<Figure size 432x288 with 1 Axes>"
      ]
     },
     "metadata": {
      "needs_background": "light"
     },
     "output_type": "display_data"
    },
    {
     "name": "stdout",
     "output_type": "stream",
     "text": [
      "[3, 3]\n",
      "Now the cleaner does: clean\n"
     ]
    },
    {
     "data": {
      "image/png": "[encoded data removed]",
      "text/plain": [
       "<Figure size 432x288 with 1 Axes>"
      ]
     },
     "metadata": {
      "needs_background": "light"
     },
     "output_type": "display_data"
    },
    {
     "name": "stdout",
     "output_type": "stream",
     "text": [
      "[3, 3]\n",
      "Now the cleaner does: move left\n"
     ]
    },
    {
     "data": {
      "image/png": "[encoded data removed]",
      "text/plain": [
       "<Figure size 432x288 with 1 Axes>"
      ]
     },
     "metadata": {
      "needs_background": "light"
     },
     "output_type": "display_data"
    },
    {
     "name": "stdout",
     "output_type": "stream",
     "text": [
      "[3, 2]\n",
      "Now the cleaner does: move left\n"
     ]
    },
    {
     "data": {
      "image/png": "[encoded data removed]",
      "text/plain": [
       "<Figure size 432x288 with 1 Axes>"
      ]
     },
     "metadata": {
      "needs_background": "light"
     },
     "output_type": "display_data"
    },
    {
     "name": "stdout",
     "output_type": "stream",
     "text": [
      "[3, 1]\n",
      "Now the cleaner does: move left\n"
     ]
    },
    {
     "data": {
      "image/png": "[encoded data removed]",
      "text/plain": [
       "<Figure size 432x288 with 1 Axes>"
      ]
     },
     "metadata": {
      "needs_background": "light"
     },
     "output_type": "display_data"
    },
    {
     "name": "stdout",
     "output_type": "stream",
     "text": [
      "[3, 0]\n",
      "Now the cleaner does: move down\n"
     ]
    },
    {
     "data": {
      "image/png": "[encoded data removed]",
      "text/plain": [
       "<Figure size 432x288 with 1 Axes>"
      ]
     },
     "metadata": {
      "needs_background": "light"
     },
     "output_type": "display_data"
    },
    {
     "name": "stdout",
     "output_type": "stream",
     "text": [
      "[4, 0]\n",
      "Now the cleaner does: move right\n"
     ]
    },
    {
     "data": {
      "image/png": "[encoded data removed]",
      "text/plain": [
       "<Figure size 432x288 with 1 Axes>"
      ]
     },
     "metadata": {
      "needs_background": "light"
     },
     "output_type": "display_data"
    },
    {
     "name": "stdout",
     "output_type": "stream",
     "text": [
      "[4, 1]\n",
      "Now the cleaner does: move right\n"
     ]
    },
    {
     "data": {
      "image/png": "[encoded data removed]",
      "text/plain": [
       "<Figure size 432x288 with 1 Axes>"
      ]
     },
     "metadata": {
      "needs_background": "light"
     },
     "output_type": "display_data"
    },
    {
     "name": "stdout",
     "output_type": "stream",
     "text": [
      "[4, 2]\n",
      "Now the cleaner does: move right\n"
     ]
    },
    {
     "data": {
      "image/png": "[encoded data removed]",
      "text/plain": [
       "<Figure size 432x288 with 1 Axes>"
      ]
     },
     "metadata": {
      "needs_background": "light"
     },
     "output_type": "display_data"
    },
    {
     "name": "stdout",
     "output_type": "stream",
     "text": [
      "[4, 3]\n",
      "Now the cleaner does: move right\n"
     ]
    },
    {
     "data": {
      "image/png": "[encoded data removed]",
      "text/plain": [
       "<Figure size 432x288 with 1 Axes>"
      ]
     },
     "metadata": {
      "needs_background": "light"
     },
     "output_type": "display_data"
    },
    {
     "name": "stdout",
     "output_type": "stream",
     "text": [
      "[4, 4]\n",
      "Now the cleaner does: move up\n"
     ]
    },
    {
     "data": {
      "image/png": "[encoded data removed]",
      "text/plain": [
       "<Figure size 432x288 with 1 Axes>"
      ]
     },
     "metadata": {
      "needs_background": "light"
     },
     "output_type": "display_data"
    },
    {
     "name": "stdout",
     "output_type": "stream",
     "text": [
      "[0, 0]\n",
      "Now the cleaner does: move down\n"
     ]
    },
    {
     "data": {
      "image/png": "[encoded data removed]",
      "text/plain": [
       "<Figure size 432x288 with 1 Axes>"
      ]
     },
     "metadata": {
      "needs_background": "light"
     },
     "output_type": "display_data"
    },
    {
     "name": "stdout",
     "output_type": "stream",
     "text": [
      "[1, 0]\n",
      "Now the cleaner does: clean\n"
     ]
    },
    {
     "data": {
      "image/png": "[encoded data removed]",
      "text/plain": [
       "<Figure size 432x288 with 1 Axes>"
      ]
     },
     "metadata": {
      "needs_background": "light"
     },
     "output_type": "display_data"
    },
    {
     "name": "stdout",
     "output_type": "stream",
     "text": [
      "[1, 0]\n",
      "The matrix is cleaned!\n"
     ]
    },
    {
     "data": {
      "image/png": "[encoded data removed]",
      "text/plain": [
       "<Figure size 432x288 with 1 Axes>"
      ]
     },
     "metadata": {
      "needs_background": "light"
     },
     "output_type": "display_data"
    },
    {
     "name": "stdout",
     "output_type": "stream",
     "text": [
      "[1, 0]\n"
     ]
    }
   ],
   "source": [
    "# Algorithm of program operation\n",
    "\n",
    "N = input_N()\n",
    "Matrix = create_matrix(N)\n",
    "Matrix = input_dirt(Matrix)\n",
    "Matrix = input_cleaner_location(Matrix)\n",
    "tmp = action(Matrix)\n",
    "Action = tmp[0]\n",
    "Cleaner = tmp[1]\n",
    "flag = True\n",
    "while flag:\n",
    "    tmp2 = do_action(Matrix, Action)\n",
    "    Matrix = tmp2[0]\n",
    "    if tmp2[1]:\n",
    "        flag = True\n",
    "    else:\n",
    "        flag = False\n",
    "    tmp = action(Matrix)\n",
    "    Action = tmp[0]\n",
    "    Cleaner = tmp[1]"
   ]
  },
  {
   "cell_type": "code",
   "execution_count": null,
   "id": "73777e11",
   "metadata": {},
   "outputs": [],
   "source": []
  }
 ],
 "metadata": {
  "kernelspec": {
   "display_name": "Python 3 (ipykernel)",
   "language": "python",
   "name": "python3"
  },
  "language_info": {
   "codemirror_mode": {
    "name": "ipython",
    "version": 3
   },
   "file_extension": ".py",
   "mimetype": "text/x-python",
   "name": "python",
   "nbconvert_exporter": "python",
   "pygments_lexer": "ipython3",
   "version": "3.9.7"
  }
 },
 "nbformat": 4,
 "nbformat_minor": 5
}
