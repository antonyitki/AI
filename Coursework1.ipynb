{
 "cells": [
  {
   "cell_type": "code",
   "execution_count": 8,
   "id": "181b9b79",
   "metadata": {},
   "outputs": [
    {
     "name": "stdout",
     "output_type": "stream",
     "text": [
      "[3,4]\n",
      "[3\n"
     ]
    }
   ],
   "source": [
    "import re\n",
    "tmp1 = input()\n",
    "tmp_row = re.match('^\\[\\d+', tmp1).group(0)\n",
    "print(tmp_row)"
   ]
  },
  {
   "cell_type": "code",
   "execution_count": 27,
   "id": "3cf46547",
   "metadata": {},
   "outputs": [
    {
     "name": "stdout",
     "output_type": "stream",
     "text": [
      "[[0 0 0]\n",
      " [0 3 2]\n",
      " [0 0 0]]\n",
      "2\n"
     ]
    }
   ],
   "source": [
    "import numpy as np\n",
    "matrix = np.arange(3**2).reshape((3,3)) * 0\n",
    "matrix[1,2] = 2\n",
    "matrix[1,1] = 3\n",
    "print(matrix)\n",
    "tmp = np.where(matrix == 0)[0][5]\n",
    "print(tmp)"
   ]
  },
  {
   "cell_type": "code",
   "execution_count": null,
   "id": "5b91cbdf",
   "metadata": {},
   "outputs": [],
   "source": []
  }
 ],
 "metadata": {
  "kernelspec": {
   "display_name": "Python 3 (ipykernel)",
   "language": "python",
   "name": "python3"
  },
  "language_info": {
   "codemirror_mode": {
    "name": "ipython",
    "version": 3
   },
   "file_extension": ".py",
   "mimetype": "text/x-python",
   "name": "python",
   "nbconvert_exporter": "python",
   "pygments_lexer": "ipython3",
   "version": "3.9.7"
  }
 },
 "nbformat": 4,
 "nbformat_minor": 5
}
