{
 "cells": [
  {
   "cell_type": "code",
   "execution_count": 1,
   "id": "8bd28644",
   "metadata": {},
   "outputs": [],
   "source": [
    "def path_cost(cur_cost, action):\n",
    "        if action == 1:\n",
    "            new_cost = 2 # this assumes that the action for clean is 2\n",
    "            cost = cur_cost + new_cost\n",
    "            return cost \n",
    "        elif action == 2: \n",
    "            new_cost = 1 # this assumes that the action for move right is 1\n",
    "            cost = cur_cost + new_cost\n",
    "            return cost \n",
    "        elif action == 3: \n",
    "            new_cost = 8 # this assumes that the action for move left 8 times is 8\n",
    "            cost = cur_cost + new_cost\n",
    "            return cost"
   ]
  },
  {
   "cell_type": "code",
   "execution_count": 5,
   "id": "11e73d8e",
   "metadata": {},
   "outputs": [
    {
     "data": {
      "text/plain": [
       "8"
      ]
     },
     "execution_count": 5,
     "metadata": {},
     "output_type": "execute_result"
    }
   ],
   "source": [
    "cost=0\n",
    "action=3\n",
    "cost_total=path_cost(cost,action)\n",
    "cost_total"
   ]
  },
  {
   "cell_type": "code",
   "execution_count": null,
   "id": "fb30ebb5",
   "metadata": {},
   "outputs": [],
   "source": []
  }
 ],
 "metadata": {
  "kernelspec": {
   "display_name": "Python 3",
   "language": "python",
   "name": "python3"
  },
  "language_info": {
   "codemirror_mode": {
    "name": "ipython",
    "version": 3
   },
   "file_extension": ".py",
   "mimetype": "text/x-python",
   "name": "python",
   "nbconvert_exporter": "python",
   "pygments_lexer": "ipython3",
   "version": "3.8.8"
  }
 },
 "nbformat": 4,
 "nbformat_minor": 5
}
