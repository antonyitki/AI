{
 "cells": [
  {
   "cell_type": "code",
   "execution_count": 1,
   "id": "d0d42431",
   "metadata": {},
   "outputs": [],
   "source": [
    "import numpy as np\n",
    "children = {'a':['b','c'],'b':['d','e'],'c':['f','g']} #mapping from state to child states\n",
    "value = {'d':4,'e':3,'f':2,'g':1} # value of terminal states\n",
    "action = {'d':'L','e':'R','f':'L','g':'R','b':'L','c':'R'} # mapping from state to the action that produces #that state"
   ]
  },
  {
   "cell_type": "code",
   "execution_count": 2,
   "id": "7931725c",
   "metadata": {},
   "outputs": [],
   "source": [
    "max_optimal_next_states = {}\n",
    "min_optimal_next_states = {}"
   ]
  },
  {
   "cell_type": "code",
   "execution_count": 3,
   "id": "de97e72e",
   "metadata": {},
   "outputs": [],
   "source": [
    "def produce_children(state):\n",
    "    \"Function to produce children of a state\"\n",
    "    return children.get(state,None)\n",
    "\n",
    "def is_terminal(state):\n",
    "    \"Function to check if a state is terminal and return value of the state\"\n",
    "    if state in children:\n",
    "        return False,0\n",
    "    return True,value[state]\n",
    "\n",
    "def get_action(next_state,current_state=None): \n",
    "    \"Function to return action that moves player from current state to next state\"\n",
    "     #current state is redundant for this example as there is only one way to get to a state\n",
    "    return action[next_state]"
   ]
  },
  {
   "cell_type": "code",
   "execution_count": 4,
   "id": "9b6391a6",
   "metadata": {},
   "outputs": [],
   "source": [
    "import random\n",
    "def maximize(state):\n",
    "    \n",
    "    if state in max_optimal_next_states:\n",
    "        return max_optimal_next_states[state]\n",
    "    \n",
    "    terminal_status,reward = is_terminal(state)\n",
    "    if terminal_status:\n",
    "        return state,reward # No further state so return same state\n",
    "    \n",
    "    max_state, max_score = None,-np.Inf\n",
    "    max_states = []\n",
    "    children = produce_children(state)\n",
    "    for child in children:\n",
    "        _,score = minimize(child)\n",
    "        if score > max_score:\n",
    "            max_state,max_score = child,score\n",
    "            max_states = [max_state]\n",
    "        elif score == max_score: \n",
    "            max_states.append(child)\n",
    "            \n",
    "    # If multiple actions are optimal, break ties randomly\n",
    "    max_state = random.choice(max_states)\n",
    "    max_optimal_next_states[state] = (max_state,max_score)\n",
    "    \n",
    "    return max_state,max_score"
   ]
  },
  {
   "cell_type": "code",
   "execution_count": 5,
   "id": "35efe3fa",
   "metadata": {},
   "outputs": [],
   "source": [
    "def minimize(state):\n",
    "    \n",
    "    if state in min_optimal_next_states:\n",
    "        return min_optimal_next_states[state]\n",
    "    \n",
    "    terminal_status,reward = is_terminal(state)\n",
    "    if terminal_status:\n",
    "        return state,reward # No further state so return same state\n",
    "    \n",
    "    min_state, min_score = None,np.Inf\n",
    "    min_states = []\n",
    "    children = produce_children(state)\n",
    "    for child in children:\n",
    "        _,score = maximize(child)\n",
    "        if score < min_score:\n",
    "            min_state,min_score = child,score\n",
    "            min_states = [min_state]\n",
    "        elif score == min_score: \n",
    "            min_states.append(child)\n",
    "    \n",
    "    min_state = random.choice(min_states)\n",
    "    min_optimal_next_states[state] =  (min_state,min_score)\n",
    "    \n",
    "    return min_state,min_score"
   ]
  },
  {
   "cell_type": "code",
   "execution_count": 6,
   "id": "fe3f2491",
   "metadata": {},
   "outputs": [],
   "source": [
    "def optimal_decision(state,player = 'Maximizer'):\n",
    "    if player == 'Maximizer':\n",
    "        max_state,_ = maximize(state)\n",
    "        return get_action(max_state,state)\n",
    "    else:\n",
    "        min_state,_ = minimize(state)\n",
    "        return get_action(min_state,state)"
   ]
  },
  {
   "cell_type": "code",
   "execution_count": 7,
   "id": "4b8faa43",
   "metadata": {},
   "outputs": [
    {
     "data": {
      "text/plain": [
       "'L'"
      ]
     },
     "execution_count": 7,
     "metadata": {},
     "output_type": "execute_result"
    }
   ],
   "source": [
    "optimal_decision('a',player = 'Maximizer')"
   ]
  },
  {
   "cell_type": "code",
   "execution_count": 8,
   "id": "ad3f3c70",
   "metadata": {},
   "outputs": [
    {
     "data": {
      "text/plain": [
       "'R'"
      ]
     },
     "execution_count": 8,
     "metadata": {},
     "output_type": "execute_result"
    }
   ],
   "source": [
    "optimal_decision('b',player = 'Minimizer')"
   ]
  },
  {
   "cell_type": "code",
   "execution_count": 9,
   "id": "2a15712a",
   "metadata": {},
   "outputs": [
    {
     "data": {
      "text/plain": [
       "'R'"
      ]
     },
     "execution_count": 9,
     "metadata": {},
     "output_type": "execute_result"
    }
   ],
   "source": [
    "optimal_decision('c',player = 'Minimizer')"
   ]
  },
  {
   "cell_type": "code",
   "execution_count": null,
   "id": "61525b25",
   "metadata": {},
   "outputs": [],
   "source": []
  }
 ],
 "metadata": {
  "kernelspec": {
   "display_name": "Python 3 (ipykernel)",
   "language": "python",
   "name": "python3"
  },
  "language_info": {
   "codemirror_mode": {
    "name": "ipython",
    "version": 3
   },
   "file_extension": ".py",
   "mimetype": "text/x-python",
   "name": "python",
   "nbconvert_exporter": "python",
   "pygments_lexer": "ipython3",
   "version": "3.9.7"
  }
 },
 "nbformat": 4,
 "nbformat_minor": 5
}
